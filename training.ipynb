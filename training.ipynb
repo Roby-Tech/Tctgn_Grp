{
 "cells": [
  {
   "cell_type": "code",
   "execution_count": 1,
   "metadata": {},
   "outputs": [],
   "source": [
    "import pandas as pd\n",
    "import numpy as np\n",
    "from keras.models import Sequential\n",
    "from keras.layers import LSTM, Dense, Dropout\n",
    "from keras.utils import to_categorical\n",
    "from sklearn.model_selection import train_test_split\n",
    "from sklearn.preprocessing import StandardScaler"
   ]
  },
  {
   "cell_type": "code",
   "execution_count": null,
   "metadata": {},
   "outputs": [],
   "source": [
    "# Parametri\n",
    "sequence_length = 50 #sequenza degli istanti temporali\n",
    "files = ['ML_TACTIGON/customTSkin/data/fermo.csv',\n",
    "         'ML_TACTIGON/customTSkin/data/destra.csv',\n",
    "         'ML_TACTIGON/customTSkin/data/sinistra.csv',\n",
    "         'ML_TACTIGON/customTSkin/data/sopra.csv',\n",
    "         'ML_TACTIGON/customTSkin/data/sotto.csv',\n",
    "         'ML_TACTIGON/customTSkin/data/avanti.csv',\n",
    "         'ML_TACTIGON/customTSkin/data/indietro.csv']\n",
    "\n",
    "#etichette per softmax\n",
    "labels = ['fermo', 'destra', 'sinistra', 'sopra', 'sotto', 'avanti', 'indietro']"
   ]
  },
  {
   "cell_type": "code",
   "execution_count": null,
   "metadata": {},
   "outputs": [],
   "source": [
    "\n",
    "def load_and_preprocess_data(files, labels):\n",
    "    \"\"\"\n",
    "    funzione per caricare e processare i dati\n",
    "    \"\"\"\n",
    "    sequences, targets = [], []\n",
    "    for file, label in zip(files, labels):\n",
    "        data = pd.read_csv(file)\n",
    "        scaler = StandardScaler()\n",
    "        data[['accX', 'accY', 'accZ', 'gyroX', 'gyroY', 'gyroZ']] = scaler.fit_transform(data[['accX', 'accY', 'accZ', 'gyroX', 'gyroY', 'gyroZ']])\n",
    "        \n",
    "        for i in range(len(data) - sequence_length + 1):\n",
    "            sequences.append(data[['accX', 'accY', 'accZ', 'gyroX', 'gyroY', 'gyroZ']].iloc[i: i + sequence_length].values)\n",
    "            targets.append(label)\n",
    "    return np.array(sequences), np.array(targets)"
   ]
  },
  {
   "cell_type": "code",
   "execution_count": null,
   "metadata": {},
   "outputs": [],
   "source": [
    "# Caricamento e suddivisione dei dati\n",
    "X, y = load_and_preprocess_data(files, labels)\n",
    "y = to_categorical(y)\n",
    "X_train, X_test, y_train, y_test = train_test_split(X, y, test_size=0.2, random_state=42)"
   ]
  },
  {
   "cell_type": "code",
   "execution_count": null,
   "metadata": {},
   "outputs": [],
   "source": [
    "# Creazione del modello LSTM\n",
    "model = Sequential()\n",
    "model.add(LSTM(64, input_shape=(sequence_length, 6), return_sequences=True))\n",
    "model.add(Dropout(0.2))\n",
    "model.add(LSTM(32))\n",
    "model.add(Dropout(0.2))\n",
    "model.add(Dense(7, activation='softmax'))\n",
    "\n",
    "# Compilazione del modello\n",
    "model.compile(optimizer='adam', loss='categorical_crossentropy', metrics=['accuracy'])\n",
    "\n",
    "# Allenamento\n",
    "model.fit(X_train, y_train, epochs=5, batch_size=32, validation_split=0.2)"
   ]
  },
  {
   "cell_type": "code",
   "execution_count": null,
   "metadata": {},
   "outputs": [],
   "source": [
    "# Valutazione\n",
    "loss, accuracy = model.evaluate(X_test, y_test)\n",
    "print(f\"Loss: {loss}, Accuracy: {accuracy}\")"
   ]
  }
 ],
 "metadata": {
  "kernelspec": {
   "display_name": "Joystick",
   "language": "python",
   "name": "python3"
  },
  "language_info": {
   "codemirror_mode": {
    "name": "ipython",
    "version": 3
   },
   "file_extension": ".py",
   "mimetype": "text/x-python",
   "name": "python",
   "nbconvert_exporter": "python",
   "pygments_lexer": "ipython3",
   "version": "3.10.13"
  }
 },
 "nbformat": 4,
 "nbformat_minor": 2
}
