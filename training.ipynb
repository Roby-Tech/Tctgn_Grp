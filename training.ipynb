{
 "cells": [
  {
   "cell_type": "markdown",
   "metadata": {},
   "source": [
    "# Import"
   ]
  },
  {
   "cell_type": "code",
   "execution_count": null,
   "metadata": {},
   "outputs": [],
   "source": [
    "import pandas as pd\n",
    "import numpy as np\n",
    "from keras.models import Sequential\n",
    "from keras.layers import LSTM, Dense, Dropout\n",
    "from keras.utils import to_categorical\n",
    "from sklearn.model_selection import train_test_split\n",
    "from sklearn.preprocessing import MinMaxScaler\n",
    "from collections import Counter\n",
    "from sklearn.preprocessing import MultiLabelBinarizer\n"
   ]
  },
  {
   "cell_type": "markdown",
   "metadata": {},
   "source": [
    "# Data exploring"
   ]
  },
  {
   "cell_type": "code",
   "execution_count": null,
   "metadata": {},
   "outputs": [],
   "source": [
    "#data exploring\n",
    "df = pd.read_csv('DATI.csv')\n",
    "\n",
    "df"
   ]
  },
  {
   "cell_type": "markdown",
   "metadata": {},
   "source": [
    "# Data cleaning"
   ]
  },
  {
   "cell_type": "code",
   "execution_count": null,
   "metadata": {},
   "outputs": [],
   "source": [
    "# rimuoviamo le label in eccesso tenendo solo le prime 3 righe\n",
    "def trova_terza(str):\n",
    "    for _ in range(3):\n",
    "        idx = str.rfind(',')\n",
    "        str = str[:idx]\n",
    "    str = str + ']'\n",
    "    print(str)\n",
    "\n",
    "    return str"
   ]
  },
  {
   "cell_type": "code",
   "execution_count": null,
   "metadata": {},
   "outputs": [],
   "source": [
    "df['Label'] = df['Label'].apply(trova_terza)"
   ]
  },
  {
   "cell_type": "markdown",
   "metadata": {},
   "source": [
    "# aggregamento dati"
   ]
  },
  {
   "cell_type": "code",
   "execution_count": null,
   "metadata": {},
   "outputs": [],
   "source": [
    "\n",
    "def aggrega(df, colonna, batch_size=10):\n",
    "    \"\"\"\n",
    "    Assegna la label più frequente ogni blocco di 10\n",
    "    da specificare il df e la ['']\n",
    "    \"\"\"\n",
    "    \n",
    "    lista = []  \n",
    "    \n",
    "    for i in range(0, len(df), batch_size):\n",
    "        batch = df.iloc[i:i + batch_size]  \n",
    "        \n",
    "        labels = batch[colonna]  #label del batch\n",
    "        counter = Counter(labels)     #trova la label più frequente \n",
    "        most_common_label = counter.most_common(1)[0][0]\n",
    "        \n",
    "        lista.extend([most_common_label] * len(batch))\n",
    "    \n",
    "    return pd.Series(lista, index=df.index)"
   ]
  },
  {
   "cell_type": "code",
   "execution_count": null,
   "metadata": {},
   "outputs": [],
   "source": [
    "df['Label'] = aggrega(df, colonna='Label')"
   ]
  },
  {
   "cell_type": "code",
   "execution_count": null,
   "metadata": {},
   "outputs": [],
   "source": [
    "df"
   ]
  },
  {
   "cell_type": "markdown",
   "metadata": {},
   "source": [
    "# Data cleaning PT 2"
   ]
  },
  {
   "cell_type": "code",
   "execution_count": null,
   "metadata": {},
   "outputs": [],
   "source": [
    "# la label è salvata come una stringa unica, quindi la puliamo e dividiamo con strip\n",
    "# che dividerà in elementi di una lista\n",
    "df['Label'] = df['Label'].apply(lambda x: x.replace('[',''))\n",
    "df['Label'] = df['Label'].apply(lambda x: x.replace(']',''))\n",
    "df['Label'] = df['Label'].apply(lambda x: x.replace('\\'',''))\n",
    "\n",
    "df"
   ]
  },
  {
   "cell_type": "code",
   "execution_count": null,
   "metadata": {},
   "outputs": [],
   "source": [
    "df['Label'] = df['Label'].apply(lambda x: x.split(','))\n",
    "df['Label']\n",
    "#trasfroma in lista"
   ]
  },
  {
   "cell_type": "code",
   "execution_count": null,
   "metadata": {},
   "outputs": [],
   "source": [
    "# come scelta progettuale ho eliminato le label non necessarie:\n",
    "\n",
    "\"\"\" \n",
    "dato che facciamo una classificazione multi-classe dobbiamo dividere tutte le label e non ci serve sapere che dei\n",
    "sensori sono in stato fermo, ma solo che il moviemento che ci interessa, quindi avanti/indietro/destra/ecc...\n",
    "\"\"\"\n",
    "def trasforma(lista):\n",
    "    contatore = 0\n",
    "    for elemento in lista:\n",
    "        if elemento.strip() == 'fermo':\n",
    "            lista.remove(elemento)\n",
    "            contatore += 1\n",
    "    \n",
    "    if contatore == 3:\n",
    "        elemento = 'fermo'\n",
    "        return elemento\n",
    "    \n",
    "    return lista"
   ]
  },
  {
   "cell_type": "code",
   "execution_count": null,
   "metadata": {},
   "outputs": [],
   "source": [
    "df['Label'] = df['Label'].apply(trasforma)\n",
    "df"
   ]
  },
  {
   "cell_type": "code",
   "execution_count": null,
   "metadata": {},
   "outputs": [],
   "source": [
    "df['Label'].value_counts()\n",
    "#controllo se ci sono label vuote (no)"
   ]
  },
  {
   "cell_type": "code",
   "execution_count": null,
   "metadata": {},
   "outputs": [],
   "source": [
    "# trasformazione label in binarie, per poi fornirle al modello\n",
    "mlb = MultiLabelBinarizer()\n",
    "binary_labels = mlb.fit_transform(df['Label'])\n",
    "print(binary_labels[0])"
   ]
  },
  {
   "cell_type": "code",
   "execution_count": null,
   "metadata": {},
   "outputs": [],
   "source": [
    "#mostra le classi corrispondenti\n",
    "print(mlb.classes_) "
   ]
  },
  {
   "cell_type": "markdown",
   "metadata": {},
   "source": [
    "# aggiuntiva per migliorare il training\n",
    "non runnate a meno che sicuri"
   ]
  },
  {
   "cell_type": "code",
   "execution_count": null,
   "metadata": {},
   "outputs": [],
   "source": [
    "df2 = df.drop('timestamp', axis = 1)\n",
    "df2 = df2.drop('gyroX', axis = 1)\n",
    "df2 = df2.drop('gyroY', axis = 1)\n",
    "df2 = df2.drop('gyroZ', axis = 1)\n"
   ]
  },
  {
   "cell_type": "code",
   "execution_count": null,
   "metadata": {},
   "outputs": [],
   "source": [
    "df2"
   ]
  },
  {
   "cell_type": "code",
   "execution_count": null,
   "metadata": {},
   "outputs": [],
   "source": [
    "# Caricamento e suddivisione dei dati\n",
    "x = df2.drop('Label', axis  = 1)\n",
    "y = binary_labels"
   ]
  },
  {
   "cell_type": "markdown",
   "metadata": {},
   "source": [
    "# train test split"
   ]
  },
  {
   "cell_type": "code",
   "execution_count": null,
   "metadata": {},
   "outputs": [],
   "source": [
    "# Caricamento e suddivisione dei dati\n",
    "# non avviare a meno che si voglia usare il modello fra virgolette\n",
    "x = df.drop('Label', axis  = 1)\n",
    "y = binary_labels"
   ]
  },
  {
   "cell_type": "code",
   "execution_count": null,
   "metadata": {},
   "outputs": [],
   "source": [
    "x_train, x_test, y_train, y_test = train_test_split(x, y, test_size=0.2, random_state=42, stratify=y)"
   ]
  },
  {
   "cell_type": "markdown",
   "metadata": {},
   "source": [
    "# normalizzazione"
   ]
  },
  {
   "cell_type": "code",
   "execution_count": null,
   "metadata": {},
   "outputs": [],
   "source": [
    "scaler = MinMaxScaler(feature_range=(0, 1))\n",
    "x_train = scaler.fit_transform(x_train)\n",
    "x_test = scaler.transform(x_test)"
   ]
  },
  {
   "cell_type": "code",
   "execution_count": null,
   "metadata": {},
   "outputs": [],
   "source": [
    "print(x_train.shape)\n",
    "y_train.shape"
   ]
  },
  {
   "cell_type": "markdown",
   "metadata": {},
   "source": [
    "# convertire i dati per il modello"
   ]
  },
  {
   "cell_type": "code",
   "execution_count": null,
   "metadata": {},
   "outputs": [],
   "source": [
    "sequence_length = 10 #sequenza degli istanti temporali\n",
    "\n",
    "def create_sequences(train, sequence_length):\n",
    "    \n",
    "    seq_temp = []\n",
    "    for i in range(len(train) - sequence_length + 1):\n",
    "        seq_temp.append(train[i:i + sequence_length])\n",
    "    return np.array(seq_temp)\n",
    "\n",
    "x_train = create_sequences(x_train, sequence_length)\n",
    "x_test = create_sequences(x_test, sequence_length)\n",
    "\n",
    "print(x_train.shape)\n",
    "x_test.shape"
   ]
  },
  {
   "cell_type": "code",
   "execution_count": null,
   "metadata": {},
   "outputs": [],
   "source": [
    "#scartiamo da y_test i dati in eccesso che non riescono a creare una sequenza intera\n",
    "diff = len(y_test) - len(x_test)\n",
    "print(diff)\n",
    "\n",
    "if diff > 0:\n",
    "    y_test = y_test[:-diff]"
   ]
  },
  {
   "cell_type": "markdown",
   "metadata": {},
   "source": [
    "# addestramento"
   ]
  },
  {
   "cell_type": "code",
   "execution_count": null,
   "metadata": {},
   "outputs": [],
   "source": [
    "'''# Creazione del modello LSTM\n",
    "model = Sequential()\n",
    "model.add(LSTM(64, input_shape=(sequence_length, 7), return_sequences=True))\n",
    "model.add(Dropout(0.2))\n",
    "model.add(LSTM(32))\n",
    "model.add(Dropout(0.2))\n",
    "model.add(Dense(7, activation='sigmoid'))  \n",
    "\n",
    "\n",
    "# Compilazione del modello\n",
    "model.compile(optimizer='adam', loss='binary_crossentropy', metrics=['accuracy'])\n",
    "\n",
    "# Allenamento\n",
    "model.fit(x_train, y_train, epochs=5, batch_size=32, validation_split=0.2)\n",
    "'''"
   ]
  },
  {
   "cell_type": "markdown",
   "metadata": {},
   "source": [
    "# cosa dobbiamo fare\n",
    "- implementare un early stopping al modello prima che cali d'accuracy\n",
    "- giocare con l'ampiezza di una sequenza temporale (adesso è 10)\n",
    "- aumentare le dimensioni del modello (mettiamo più strati, per farlo dopo uno strato bisogna mettere return_sequences)"
   ]
  },
  {
   "cell_type": "code",
   "execution_count": null,
   "metadata": {},
   "outputs": [],
   "source": [
    "# Creazione del modello LSTM\n",
    "model = Sequential()\n",
    "model.add(LSTM(128, input_shape=(sequence_length, 3), return_sequences=True))\n",
    "model.add(Dropout(0.2))\n",
    "model.add(LSTM(64))\n",
    "model.add(Dropout(0.2))\n",
    "model.add(Dense(8, activation='sigmoid'))  \n",
    "\n",
    "\n",
    "# Compilazione del modello\n",
    "model.compile(optimizer='adam', loss='binary_crossentropy', metrics=['accuracy'])\n",
    "\n",
    "# Allenamento\n",
    "model.fit(x_train, y_train, epochs=10, batch_size=32, validation_split=0.2)"
   ]
  },
  {
   "cell_type": "code",
   "execution_count": null,
   "metadata": {},
   "outputs": [],
   "source": [
    "from sklearn.metrics import accuracy_score\n",
    "# Valutazione\n",
    "\n",
    "predizioni = model.predict(x_test)\n",
    "soglia_corretto = 0.7\n",
    "predicted_labels = (predizioni > soglia_corretto)\n",
    "\n",
    "accuracy = accuracy_score(y_test, predicted_labels)"
   ]
  },
  {
   "cell_type": "code",
   "execution_count": null,
   "metadata": {},
   "outputs": [],
   "source": [
    "print(f\"Accuracy: {accuracy}\")"
   ]
  },
  {
   "cell_type": "code",
   "execution_count": null,
   "metadata": {},
   "outputs": [],
   "source": [
    "from sklearn.metrics import classification_report\n",
    "\n",
    "print(classification_report(y_test, predicted_labels, target_names=mlb.classes_))\n"
   ]
  },
  {
   "cell_type": "code",
   "execution_count": null,
   "metadata": {},
   "outputs": [],
   "source": []
  }
 ],
 "metadata": {
  "kernelspec": {
   "display_name": "dlgpu",
   "language": "python",
   "name": "python3"
  },
  "language_info": {
   "codemirror_mode": {
    "name": "ipython",
    "version": 3
   },
   "file_extension": ".py",
   "mimetype": "text/x-python",
   "name": "python",
   "nbconvert_exporter": "python",
   "pygments_lexer": "ipython3",
   "version": "3.9.19"
  }
 },
 "nbformat": 4,
 "nbformat_minor": 2
}
