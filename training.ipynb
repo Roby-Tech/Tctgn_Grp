{
 "cells": [
  {
   "cell_type": "markdown",
   "metadata": {},
   "source": [
    "# Import"
   ]
  },
  {
   "cell_type": "code",
<<<<<<< HEAD
   "execution_count": 25,
=======
   "execution_count": null,
>>>>>>> fc7be962357dc3a404ae741c1c41d05644a44992
   "metadata": {},
   "outputs": [],
   "source": [
    "import pandas as pd\n",
    "import numpy as np\n",
    "from keras.models import Sequential\n",
    "from keras.layers import LSTM, Dense, Dropout\n",
    "from keras.utils import to_categorical\n",
    "from sklearn.model_selection import train_test_split\n",
    "from sklearn.preprocessing import MinMaxScaler\n",
    "from collections import Counter\n",
    "from sklearn.preprocessing import MultiLabelBinarizer\n"
   ]
  },
  {
   "cell_type": "markdown",
   "metadata": {},
   "source": [
    "# Data exploring"
   ]
  },
  {
   "cell_type": "code",
<<<<<<< HEAD
   "execution_count": 26,
   "metadata": {},
   "outputs": [
    {
     "data": {
      "text/html": [
       "<div>\n",
       "<style scoped>\n",
       "    .dataframe tbody tr th:only-of-type {\n",
       "        vertical-align: middle;\n",
       "    }\n",
       "\n",
       "    .dataframe tbody tr th {\n",
       "        vertical-align: top;\n",
       "    }\n",
       "\n",
       "    .dataframe thead th {\n",
       "        text-align: right;\n",
       "    }\n",
       "</style>\n",
       "<table border=\"1\" class=\"dataframe\">\n",
       "  <thead>\n",
       "    <tr style=\"text-align: right;\">\n",
       "      <th></th>\n",
       "      <th>timestamp</th>\n",
       "      <th>accX</th>\n",
       "      <th>accY</th>\n",
       "      <th>accZ</th>\n",
       "      <th>gyroX</th>\n",
       "      <th>gyroY</th>\n",
       "      <th>gyroZ</th>\n",
       "      <th>Label</th>\n",
       "    </tr>\n",
       "  </thead>\n",
       "  <tbody>\n",
       "    <tr>\n",
       "      <th>0</th>\n",
       "      <td>1.732189e+09</td>\n",
       "      <td>-5.527879</td>\n",
       "      <td>-4.858718</td>\n",
       "      <td>-2.166334</td>\n",
       "      <td>-0.966667</td>\n",
       "      <td>-3.166667</td>\n",
       "      <td>-0.966667</td>\n",
       "      <td>['sotto', 'fermo', 'fermo', 'fermo', 'sinistra...</td>\n",
       "    </tr>\n",
       "    <tr>\n",
       "      <th>1</th>\n",
       "      <td>1.732189e+09</td>\n",
       "      <td>-5.200716</td>\n",
       "      <td>-5.413599</td>\n",
       "      <td>-2.259820</td>\n",
       "      <td>-0.366667</td>\n",
       "      <td>-2.866667</td>\n",
       "      <td>-1.400000</td>\n",
       "      <td>['sotto', 'indietro', 'fermo', 'fermo', 'sinis...</td>\n",
       "    </tr>\n",
       "    <tr>\n",
       "      <th>2</th>\n",
       "      <td>1.732189e+09</td>\n",
       "      <td>-3.524709</td>\n",
       "      <td>-5.594171</td>\n",
       "      <td>-1.247677</td>\n",
       "      <td>0.600000</td>\n",
       "      <td>-1.800000</td>\n",
       "      <td>-2.133333</td>\n",
       "      <td>['fermo', 'indietro', 'fermo', 'fermo', 'sinis...</td>\n",
       "    </tr>\n",
       "    <tr>\n",
       "      <th>3</th>\n",
       "      <td>1.732189e+09</td>\n",
       "      <td>-0.023709</td>\n",
       "      <td>-6.387939</td>\n",
       "      <td>1.155626</td>\n",
       "      <td>0.833333</td>\n",
       "      <td>-0.166667</td>\n",
       "      <td>-2.433333</td>\n",
       "      <td>['fermo', 'indietro', 'fermo', 'fermo', 'fermo...</td>\n",
       "    </tr>\n",
       "    <tr>\n",
       "      <th>4</th>\n",
       "      <td>1.732189e+09</td>\n",
       "      <td>2.153291</td>\n",
       "      <td>-6.756805</td>\n",
       "      <td>2.129320</td>\n",
       "      <td>0.600000</td>\n",
       "      <td>1.000000</td>\n",
       "      <td>-2.400000</td>\n",
       "      <td>['fermo', 'indietro', 'fermo', 'fermo', 'fermo...</td>\n",
       "    </tr>\n",
       "    <tr>\n",
       "      <th>...</th>\n",
       "      <td>...</td>\n",
       "      <td>...</td>\n",
       "      <td>...</td>\n",
       "      <td>...</td>\n",
       "      <td>...</td>\n",
       "      <td>...</td>\n",
       "      <td>...</td>\n",
       "      <td>...</td>\n",
       "    </tr>\n",
       "    <tr>\n",
       "      <th>40379</th>\n",
       "      <td>1.732189e+09</td>\n",
       "      <td>6.151457</td>\n",
       "      <td>-13.349115</td>\n",
       "      <td>13.103255</td>\n",
       "      <td>2.633333</td>\n",
       "      <td>2.133333</td>\n",
       "      <td>0.666667</td>\n",
       "      <td>['sopra', 'indietro', 'destra', 'sinistra brac...</td>\n",
       "    </tr>\n",
       "    <tr>\n",
       "      <th>40380</th>\n",
       "      <td>1.732189e+09</td>\n",
       "      <td>3.876457</td>\n",
       "      <td>-8.463914</td>\n",
       "      <td>11.822385</td>\n",
       "      <td>1.733333</td>\n",
       "      <td>0.833333</td>\n",
       "      <td>0.333333</td>\n",
       "      <td>['fermo', 'indietro', 'destra', 'sinistra brac...</td>\n",
       "    </tr>\n",
       "    <tr>\n",
       "      <th>40381</th>\n",
       "      <td>1.732189e+09</td>\n",
       "      <td>2.689457</td>\n",
       "      <td>-6.649928</td>\n",
       "      <td>11.716661</td>\n",
       "      <td>1.266667</td>\n",
       "      <td>0.133333</td>\n",
       "      <td>0.300000</td>\n",
       "      <td>['fermo', 'indietro', 'destra', 'sinistra brac...</td>\n",
       "    </tr>\n",
       "    <tr>\n",
       "      <th>40382</th>\n",
       "      <td>1.732189e+09</td>\n",
       "      <td>0.434457</td>\n",
       "      <td>-7.581928</td>\n",
       "      <td>12.356489</td>\n",
       "      <td>-0.266667</td>\n",
       "      <td>-0.066667</td>\n",
       "      <td>0.533333</td>\n",
       "      <td>['fermo', 'indietro', 'destra', 'fermo', 'ferm...</td>\n",
       "    </tr>\n",
       "    <tr>\n",
       "      <th>40383</th>\n",
       "      <td>1.732189e+09</td>\n",
       "      <td>1.650457</td>\n",
       "      <td>-9.336928</td>\n",
       "      <td>12.536335</td>\n",
       "      <td>-1.133333</td>\n",
       "      <td>-0.066667</td>\n",
       "      <td>0.333333</td>\n",
       "      <td>['fermo', 'indietro', 'destra', 'destra bracci...</td>\n",
       "    </tr>\n",
       "  </tbody>\n",
       "</table>\n",
       "<p>40384 rows × 8 columns</p>\n",
       "</div>"
      ],
      "text/plain": [
       "          timestamp      accX       accY       accZ     gyroX     gyroY  \\\n",
       "0      1.732189e+09 -5.527879  -4.858718  -2.166334 -0.966667 -3.166667   \n",
       "1      1.732189e+09 -5.200716  -5.413599  -2.259820 -0.366667 -2.866667   \n",
       "2      1.732189e+09 -3.524709  -5.594171  -1.247677  0.600000 -1.800000   \n",
       "3      1.732189e+09 -0.023709  -6.387939   1.155626  0.833333 -0.166667   \n",
       "4      1.732189e+09  2.153291  -6.756805   2.129320  0.600000  1.000000   \n",
       "...             ...       ...        ...        ...       ...       ...   \n",
       "40379  1.732189e+09  6.151457 -13.349115  13.103255  2.633333  2.133333   \n",
       "40380  1.732189e+09  3.876457  -8.463914  11.822385  1.733333  0.833333   \n",
       "40381  1.732189e+09  2.689457  -6.649928  11.716661  1.266667  0.133333   \n",
       "40382  1.732189e+09  0.434457  -7.581928  12.356489 -0.266667 -0.066667   \n",
       "40383  1.732189e+09  1.650457  -9.336928  12.536335 -1.133333 -0.066667   \n",
       "\n",
       "          gyroZ                                              Label  \n",
       "0     -0.966667  ['sotto', 'fermo', 'fermo', 'fermo', 'sinistra...  \n",
       "1     -1.400000  ['sotto', 'indietro', 'fermo', 'fermo', 'sinis...  \n",
       "2     -2.133333  ['fermo', 'indietro', 'fermo', 'fermo', 'sinis...  \n",
       "3     -2.433333  ['fermo', 'indietro', 'fermo', 'fermo', 'fermo...  \n",
       "4     -2.400000  ['fermo', 'indietro', 'fermo', 'fermo', 'fermo...  \n",
       "...         ...                                                ...  \n",
       "40379  0.666667  ['sopra', 'indietro', 'destra', 'sinistra brac...  \n",
       "40380  0.333333  ['fermo', 'indietro', 'destra', 'sinistra brac...  \n",
       "40381  0.300000  ['fermo', 'indietro', 'destra', 'sinistra brac...  \n",
       "40382  0.533333  ['fermo', 'indietro', 'destra', 'fermo', 'ferm...  \n",
       "40383  0.333333  ['fermo', 'indietro', 'destra', 'destra bracci...  \n",
       "\n",
       "[40384 rows x 8 columns]"
      ]
     },
     "execution_count": 26,
     "metadata": {},
     "output_type": "execute_result"
    }
   ],
=======
   "execution_count": null,
   "metadata": {},
   "outputs": [],
>>>>>>> fc7be962357dc3a404ae741c1c41d05644a44992
   "source": [
    "#data exploring\n",
    "df = pd.read_csv('DATI.csv')\n",
    "\n",
    "df"
   ]
  },
  {
   "cell_type": "markdown",
   "metadata": {},
   "source": [
    "# Data cleaning"
   ]
  },
  {
   "cell_type": "code",
<<<<<<< HEAD
   "execution_count": 27,
=======
   "execution_count": null,
>>>>>>> fc7be962357dc3a404ae741c1c41d05644a44992
   "metadata": {},
   "outputs": [],
   "source": [
    "# rimuoviamo le label in eccesso tenendo solo le prime 3 righe\n",
    "def trova_terza(str):\n",
    "    for _ in range(3):\n",
    "        idx = str.rfind(',')\n",
    "        str = str[:idx]\n",
    "    str = str + ']'\n",
    "    print(str)\n",
    "\n",
    "    return str"
   ]
  },
  {
   "cell_type": "code",
<<<<<<< HEAD
   "execution_count": 28,
=======
   "execution_count": null,
>>>>>>> fc7be962357dc3a404ae741c1c41d05644a44992
   "metadata": {},
   "outputs": [],
   "source": [
    "df['Label'] = df['Label'].apply(trova_terza)"
   ]
  },
  {
   "cell_type": "markdown",
   "metadata": {},
   "source": [
    "# aggregamento dati"
   ]
  },
  {
   "cell_type": "code",
<<<<<<< HEAD
   "execution_count": 29,
=======
   "execution_count": null,
>>>>>>> fc7be962357dc3a404ae741c1c41d05644a44992
   "metadata": {},
   "outputs": [],
   "source": [
    "\n",
    "def aggrega(df, colonna, batch_size=12):\n",
    "    \"\"\"\n",
    "    Assegna la label più frequente ogni blocco di 10\n",
    "    da specificare il df e la ['']\n",
    "    \"\"\"\n",
    "    \n",
    "    lista = []  \n",
    "    \n",
    "    for i in range(0, len(df), batch_size):\n",
    "        batch = df.iloc[i:i + batch_size]  \n",
    "        \n",
    "        labels = batch[colonna]  #label del batch\n",
    "        counter = Counter(labels)     #trova la label più frequente \n",
    "        most_common_label = counter.most_common(1)[0][0]\n",
    "        \n",
    "        lista.extend([most_common_label] * len(batch))\n",
    "    \n",
    "    return pd.Series(lista, index=df.index)"
   ]
  },
  {
   "cell_type": "code",
<<<<<<< HEAD
   "execution_count": 30,
=======
   "execution_count": null,
>>>>>>> fc7be962357dc3a404ae741c1c41d05644a44992
   "metadata": {},
   "outputs": [],
   "source": [
    "df['Label'] = aggrega(df, colonna='Label')"
   ]
  },
  {
   "cell_type": "code",
<<<<<<< HEAD
   "execution_count": 31,
   "metadata": {},
   "outputs": [
    {
     "data": {
      "text/html": [
       "<div>\n",
       "<style scoped>\n",
       "    .dataframe tbody tr th:only-of-type {\n",
       "        vertical-align: middle;\n",
       "    }\n",
       "\n",
       "    .dataframe tbody tr th {\n",
       "        vertical-align: top;\n",
       "    }\n",
       "\n",
       "    .dataframe thead th {\n",
       "        text-align: right;\n",
       "    }\n",
       "</style>\n",
       "<table border=\"1\" class=\"dataframe\">\n",
       "  <thead>\n",
       "    <tr style=\"text-align: right;\">\n",
       "      <th></th>\n",
       "      <th>timestamp</th>\n",
       "      <th>accX</th>\n",
       "      <th>accY</th>\n",
       "      <th>accZ</th>\n",
       "      <th>gyroX</th>\n",
       "      <th>gyroY</th>\n",
       "      <th>gyroZ</th>\n",
       "      <th>Label</th>\n",
       "    </tr>\n",
       "  </thead>\n",
       "  <tbody>\n",
       "    <tr>\n",
       "      <th>0</th>\n",
       "      <td>1.732189e+09</td>\n",
       "      <td>-5.527879</td>\n",
       "      <td>-4.858718</td>\n",
       "      <td>-2.166334</td>\n",
       "      <td>-0.966667</td>\n",
       "      <td>-3.166667</td>\n",
       "      <td>-0.966667</td>\n",
       "      <td>['fermo', 'indietro', 'fermo']</td>\n",
       "    </tr>\n",
       "    <tr>\n",
       "      <th>1</th>\n",
       "      <td>1.732189e+09</td>\n",
       "      <td>-5.200716</td>\n",
       "      <td>-5.413599</td>\n",
       "      <td>-2.259820</td>\n",
       "      <td>-0.366667</td>\n",
       "      <td>-2.866667</td>\n",
       "      <td>-1.400000</td>\n",
       "      <td>['fermo', 'indietro', 'fermo']</td>\n",
       "    </tr>\n",
       "    <tr>\n",
       "      <th>2</th>\n",
       "      <td>1.732189e+09</td>\n",
       "      <td>-3.524709</td>\n",
       "      <td>-5.594171</td>\n",
       "      <td>-1.247677</td>\n",
       "      <td>0.600000</td>\n",
       "      <td>-1.800000</td>\n",
       "      <td>-2.133333</td>\n",
       "      <td>['fermo', 'indietro', 'fermo']</td>\n",
       "    </tr>\n",
       "    <tr>\n",
       "      <th>3</th>\n",
       "      <td>1.732189e+09</td>\n",
       "      <td>-0.023709</td>\n",
       "      <td>-6.387939</td>\n",
       "      <td>1.155626</td>\n",
       "      <td>0.833333</td>\n",
       "      <td>-0.166667</td>\n",
       "      <td>-2.433333</td>\n",
       "      <td>['fermo', 'indietro', 'fermo']</td>\n",
       "    </tr>\n",
       "    <tr>\n",
       "      <th>4</th>\n",
       "      <td>1.732189e+09</td>\n",
       "      <td>2.153291</td>\n",
       "      <td>-6.756805</td>\n",
       "      <td>2.129320</td>\n",
       "      <td>0.600000</td>\n",
       "      <td>1.000000</td>\n",
       "      <td>-2.400000</td>\n",
       "      <td>['fermo', 'indietro', 'fermo']</td>\n",
       "    </tr>\n",
       "    <tr>\n",
       "      <th>...</th>\n",
       "      <td>...</td>\n",
       "      <td>...</td>\n",
       "      <td>...</td>\n",
       "      <td>...</td>\n",
       "      <td>...</td>\n",
       "      <td>...</td>\n",
       "      <td>...</td>\n",
       "      <td>...</td>\n",
       "    </tr>\n",
       "    <tr>\n",
       "      <th>40379</th>\n",
       "      <td>1.732189e+09</td>\n",
       "      <td>6.151457</td>\n",
       "      <td>-13.349115</td>\n",
       "      <td>13.103255</td>\n",
       "      <td>2.633333</td>\n",
       "      <td>2.133333</td>\n",
       "      <td>0.666667</td>\n",
       "      <td>['sotto', 'indietro', 'sinistra']</td>\n",
       "    </tr>\n",
       "    <tr>\n",
       "      <th>40380</th>\n",
       "      <td>1.732189e+09</td>\n",
       "      <td>3.876457</td>\n",
       "      <td>-8.463914</td>\n",
       "      <td>11.822385</td>\n",
       "      <td>1.733333</td>\n",
       "      <td>0.833333</td>\n",
       "      <td>0.333333</td>\n",
       "      <td>['fermo', 'indietro', 'destra']</td>\n",
       "    </tr>\n",
       "    <tr>\n",
       "      <th>40381</th>\n",
       "      <td>1.732189e+09</td>\n",
       "      <td>2.689457</td>\n",
       "      <td>-6.649928</td>\n",
       "      <td>11.716661</td>\n",
       "      <td>1.266667</td>\n",
       "      <td>0.133333</td>\n",
       "      <td>0.300000</td>\n",
       "      <td>['fermo', 'indietro', 'destra']</td>\n",
       "    </tr>\n",
       "    <tr>\n",
       "      <th>40382</th>\n",
       "      <td>1.732189e+09</td>\n",
       "      <td>0.434457</td>\n",
       "      <td>-7.581928</td>\n",
       "      <td>12.356489</td>\n",
       "      <td>-0.266667</td>\n",
       "      <td>-0.066667</td>\n",
       "      <td>0.533333</td>\n",
       "      <td>['fermo', 'indietro', 'destra']</td>\n",
       "    </tr>\n",
       "    <tr>\n",
       "      <th>40383</th>\n",
       "      <td>1.732189e+09</td>\n",
       "      <td>1.650457</td>\n",
       "      <td>-9.336928</td>\n",
       "      <td>12.536335</td>\n",
       "      <td>-1.133333</td>\n",
       "      <td>-0.066667</td>\n",
       "      <td>0.333333</td>\n",
       "      <td>['fermo', 'indietro', 'destra']</td>\n",
       "    </tr>\n",
       "  </tbody>\n",
       "</table>\n",
       "<p>40384 rows × 8 columns</p>\n",
       "</div>"
      ],
      "text/plain": [
       "          timestamp      accX       accY       accZ     gyroX     gyroY  \\\n",
       "0      1.732189e+09 -5.527879  -4.858718  -2.166334 -0.966667 -3.166667   \n",
       "1      1.732189e+09 -5.200716  -5.413599  -2.259820 -0.366667 -2.866667   \n",
       "2      1.732189e+09 -3.524709  -5.594171  -1.247677  0.600000 -1.800000   \n",
       "3      1.732189e+09 -0.023709  -6.387939   1.155626  0.833333 -0.166667   \n",
       "4      1.732189e+09  2.153291  -6.756805   2.129320  0.600000  1.000000   \n",
       "...             ...       ...        ...        ...       ...       ...   \n",
       "40379  1.732189e+09  6.151457 -13.349115  13.103255  2.633333  2.133333   \n",
       "40380  1.732189e+09  3.876457  -8.463914  11.822385  1.733333  0.833333   \n",
       "40381  1.732189e+09  2.689457  -6.649928  11.716661  1.266667  0.133333   \n",
       "40382  1.732189e+09  0.434457  -7.581928  12.356489 -0.266667 -0.066667   \n",
       "40383  1.732189e+09  1.650457  -9.336928  12.536335 -1.133333 -0.066667   \n",
       "\n",
       "          gyroZ                              Label  \n",
       "0     -0.966667     ['fermo', 'indietro', 'fermo']  \n",
       "1     -1.400000     ['fermo', 'indietro', 'fermo']  \n",
       "2     -2.133333     ['fermo', 'indietro', 'fermo']  \n",
       "3     -2.433333     ['fermo', 'indietro', 'fermo']  \n",
       "4     -2.400000     ['fermo', 'indietro', 'fermo']  \n",
       "...         ...                                ...  \n",
       "40379  0.666667  ['sotto', 'indietro', 'sinistra']  \n",
       "40380  0.333333    ['fermo', 'indietro', 'destra']  \n",
       "40381  0.300000    ['fermo', 'indietro', 'destra']  \n",
       "40382  0.533333    ['fermo', 'indietro', 'destra']  \n",
       "40383  0.333333    ['fermo', 'indietro', 'destra']  \n",
       "\n",
       "[40384 rows x 8 columns]"
      ]
     },
     "execution_count": 31,
     "metadata": {},
     "output_type": "execute_result"
    }
   ],
=======
   "execution_count": null,
   "metadata": {},
   "outputs": [],
>>>>>>> fc7be962357dc3a404ae741c1c41d05644a44992
   "source": [
    "df"
   ]
  },
  {
   "cell_type": "markdown",
   "metadata": {},
   "source": [
    "# Data cleaning PT 2"
   ]
  },
  {
   "cell_type": "code",
<<<<<<< HEAD
   "execution_count": 32,
   "metadata": {},
   "outputs": [
    {
     "data": {
      "text/html": [
       "<div>\n",
       "<style scoped>\n",
       "    .dataframe tbody tr th:only-of-type {\n",
       "        vertical-align: middle;\n",
       "    }\n",
       "\n",
       "    .dataframe tbody tr th {\n",
       "        vertical-align: top;\n",
       "    }\n",
       "\n",
       "    .dataframe thead th {\n",
       "        text-align: right;\n",
       "    }\n",
       "</style>\n",
       "<table border=\"1\" class=\"dataframe\">\n",
       "  <thead>\n",
       "    <tr style=\"text-align: right;\">\n",
       "      <th></th>\n",
       "      <th>timestamp</th>\n",
       "      <th>accX</th>\n",
       "      <th>accY</th>\n",
       "      <th>accZ</th>\n",
       "      <th>gyroX</th>\n",
       "      <th>gyroY</th>\n",
       "      <th>gyroZ</th>\n",
       "      <th>Label</th>\n",
       "    </tr>\n",
       "  </thead>\n",
       "  <tbody>\n",
       "    <tr>\n",
       "      <th>0</th>\n",
       "      <td>1.732189e+09</td>\n",
       "      <td>-5.527879</td>\n",
       "      <td>-4.858718</td>\n",
       "      <td>-2.166334</td>\n",
       "      <td>-0.966667</td>\n",
       "      <td>-3.166667</td>\n",
       "      <td>-0.966667</td>\n",
       "      <td>fermo, indietro, fermo</td>\n",
       "    </tr>\n",
       "    <tr>\n",
       "      <th>1</th>\n",
       "      <td>1.732189e+09</td>\n",
       "      <td>-5.200716</td>\n",
       "      <td>-5.413599</td>\n",
       "      <td>-2.259820</td>\n",
       "      <td>-0.366667</td>\n",
       "      <td>-2.866667</td>\n",
       "      <td>-1.400000</td>\n",
       "      <td>fermo, indietro, fermo</td>\n",
       "    </tr>\n",
       "    <tr>\n",
       "      <th>2</th>\n",
       "      <td>1.732189e+09</td>\n",
       "      <td>-3.524709</td>\n",
       "      <td>-5.594171</td>\n",
       "      <td>-1.247677</td>\n",
       "      <td>0.600000</td>\n",
       "      <td>-1.800000</td>\n",
       "      <td>-2.133333</td>\n",
       "      <td>fermo, indietro, fermo</td>\n",
       "    </tr>\n",
       "    <tr>\n",
       "      <th>3</th>\n",
       "      <td>1.732189e+09</td>\n",
       "      <td>-0.023709</td>\n",
       "      <td>-6.387939</td>\n",
       "      <td>1.155626</td>\n",
       "      <td>0.833333</td>\n",
       "      <td>-0.166667</td>\n",
       "      <td>-2.433333</td>\n",
       "      <td>fermo, indietro, fermo</td>\n",
       "    </tr>\n",
       "    <tr>\n",
       "      <th>4</th>\n",
       "      <td>1.732189e+09</td>\n",
       "      <td>2.153291</td>\n",
       "      <td>-6.756805</td>\n",
       "      <td>2.129320</td>\n",
       "      <td>0.600000</td>\n",
       "      <td>1.000000</td>\n",
       "      <td>-2.400000</td>\n",
       "      <td>fermo, indietro, fermo</td>\n",
       "    </tr>\n",
       "    <tr>\n",
       "      <th>...</th>\n",
       "      <td>...</td>\n",
       "      <td>...</td>\n",
       "      <td>...</td>\n",
       "      <td>...</td>\n",
       "      <td>...</td>\n",
       "      <td>...</td>\n",
       "      <td>...</td>\n",
       "      <td>...</td>\n",
       "    </tr>\n",
       "    <tr>\n",
       "      <th>40379</th>\n",
       "      <td>1.732189e+09</td>\n",
       "      <td>6.151457</td>\n",
       "      <td>-13.349115</td>\n",
       "      <td>13.103255</td>\n",
       "      <td>2.633333</td>\n",
       "      <td>2.133333</td>\n",
       "      <td>0.666667</td>\n",
       "      <td>sotto, indietro, sinistra</td>\n",
       "    </tr>\n",
       "    <tr>\n",
       "      <th>40380</th>\n",
       "      <td>1.732189e+09</td>\n",
       "      <td>3.876457</td>\n",
       "      <td>-8.463914</td>\n",
       "      <td>11.822385</td>\n",
       "      <td>1.733333</td>\n",
       "      <td>0.833333</td>\n",
       "      <td>0.333333</td>\n",
       "      <td>fermo, indietro, destra</td>\n",
       "    </tr>\n",
       "    <tr>\n",
       "      <th>40381</th>\n",
       "      <td>1.732189e+09</td>\n",
       "      <td>2.689457</td>\n",
       "      <td>-6.649928</td>\n",
       "      <td>11.716661</td>\n",
       "      <td>1.266667</td>\n",
       "      <td>0.133333</td>\n",
       "      <td>0.300000</td>\n",
       "      <td>fermo, indietro, destra</td>\n",
       "    </tr>\n",
       "    <tr>\n",
       "      <th>40382</th>\n",
       "      <td>1.732189e+09</td>\n",
       "      <td>0.434457</td>\n",
       "      <td>-7.581928</td>\n",
       "      <td>12.356489</td>\n",
       "      <td>-0.266667</td>\n",
       "      <td>-0.066667</td>\n",
       "      <td>0.533333</td>\n",
       "      <td>fermo, indietro, destra</td>\n",
       "    </tr>\n",
       "    <tr>\n",
       "      <th>40383</th>\n",
       "      <td>1.732189e+09</td>\n",
       "      <td>1.650457</td>\n",
       "      <td>-9.336928</td>\n",
       "      <td>12.536335</td>\n",
       "      <td>-1.133333</td>\n",
       "      <td>-0.066667</td>\n",
       "      <td>0.333333</td>\n",
       "      <td>fermo, indietro, destra</td>\n",
       "    </tr>\n",
       "  </tbody>\n",
       "</table>\n",
       "<p>40384 rows × 8 columns</p>\n",
       "</div>"
      ],
      "text/plain": [
       "          timestamp      accX       accY       accZ     gyroX     gyroY  \\\n",
       "0      1.732189e+09 -5.527879  -4.858718  -2.166334 -0.966667 -3.166667   \n",
       "1      1.732189e+09 -5.200716  -5.413599  -2.259820 -0.366667 -2.866667   \n",
       "2      1.732189e+09 -3.524709  -5.594171  -1.247677  0.600000 -1.800000   \n",
       "3      1.732189e+09 -0.023709  -6.387939   1.155626  0.833333 -0.166667   \n",
       "4      1.732189e+09  2.153291  -6.756805   2.129320  0.600000  1.000000   \n",
       "...             ...       ...        ...        ...       ...       ...   \n",
       "40379  1.732189e+09  6.151457 -13.349115  13.103255  2.633333  2.133333   \n",
       "40380  1.732189e+09  3.876457  -8.463914  11.822385  1.733333  0.833333   \n",
       "40381  1.732189e+09  2.689457  -6.649928  11.716661  1.266667  0.133333   \n",
       "40382  1.732189e+09  0.434457  -7.581928  12.356489 -0.266667 -0.066667   \n",
       "40383  1.732189e+09  1.650457  -9.336928  12.536335 -1.133333 -0.066667   \n",
       "\n",
       "          gyroZ                      Label  \n",
       "0     -0.966667     fermo, indietro, fermo  \n",
       "1     -1.400000     fermo, indietro, fermo  \n",
       "2     -2.133333     fermo, indietro, fermo  \n",
       "3     -2.433333     fermo, indietro, fermo  \n",
       "4     -2.400000     fermo, indietro, fermo  \n",
       "...         ...                        ...  \n",
       "40379  0.666667  sotto, indietro, sinistra  \n",
       "40380  0.333333    fermo, indietro, destra  \n",
       "40381  0.300000    fermo, indietro, destra  \n",
       "40382  0.533333    fermo, indietro, destra  \n",
       "40383  0.333333    fermo, indietro, destra  \n",
       "\n",
       "[40384 rows x 8 columns]"
      ]
     },
     "execution_count": 32,
     "metadata": {},
     "output_type": "execute_result"
    }
   ],
=======
   "execution_count": null,
   "metadata": {},
   "outputs": [],
>>>>>>> fc7be962357dc3a404ae741c1c41d05644a44992
   "source": [
    "# la label è salvata come una stringa unica, quindi la puliamo e dividiamo con strip\n",
    "# che dividerà in elementi di una lista\n",
    "df['Label'] = df['Label'].apply(lambda x: x.replace('[',''))\n",
    "df['Label'] = df['Label'].apply(lambda x: x.replace(']',''))\n",
    "df['Label'] = df['Label'].apply(lambda x: x.replace('\\'',''))\n",
    "\n",
    "df"
   ]
  },
  {
   "cell_type": "code",
<<<<<<< HEAD
   "execution_count": 33,
   "metadata": {},
   "outputs": [
    {
     "data": {
      "text/plain": [
       "0           [fermo,  indietro,  fermo]\n",
       "1           [fermo,  indietro,  fermo]\n",
       "2           [fermo,  indietro,  fermo]\n",
       "3           [fermo,  indietro,  fermo]\n",
       "4           [fermo,  indietro,  fermo]\n",
       "                     ...              \n",
       "40379    [sotto,  indietro,  sinistra]\n",
       "40380      [fermo,  indietro,  destra]\n",
       "40381      [fermo,  indietro,  destra]\n",
       "40382      [fermo,  indietro,  destra]\n",
       "40383      [fermo,  indietro,  destra]\n",
       "Name: Label, Length: 40384, dtype: object"
      ]
     },
     "execution_count": 33,
     "metadata": {},
     "output_type": "execute_result"
    }
   ],
=======
   "execution_count": null,
   "metadata": {},
   "outputs": [],
>>>>>>> fc7be962357dc3a404ae741c1c41d05644a44992
   "source": [
    "df['Label'] = df['Label'].apply(lambda x: x.split(','))\n",
    "df['Label']\n",
    "#trasfroma in lista"
   ]
  },
  {
   "cell_type": "code",
<<<<<<< HEAD
   "execution_count": 34,
=======
   "execution_count": null,
>>>>>>> fc7be962357dc3a404ae741c1c41d05644a44992
   "metadata": {},
   "outputs": [],
   "source": [
    "# come scelta progettuale ho eliminato le label non necessarie:\n",
    "\n",
    "\"\"\" \n",
    "dato che facciamo una classificazione multi-classe dobbiamo dividere tutte le label e non ci serve sapere che dei\n",
    "sensori sono in stato fermo, ma solo che il moviemento che ci interessa, quindi avanti/indietro/destra/ecc...\n",
    "\"\"\"\n",
    "def trasforma(lista):\n",
    "    contatore = 0\n",
    "    for elemento in lista:\n",
    "        if elemento.strip() == 'fermo':\n",
    "            lista.remove(elemento)\n",
    "            contatore += 1\n",
    "    \n",
    "    if contatore == 3:\n",
    "        elemento = 'fermo'\n",
    "        return elemento\n",
    "    \n",
    "    return lista"
   ]
  },
  {
   "cell_type": "code",
<<<<<<< HEAD
   "execution_count": 35,
   "metadata": {},
   "outputs": [
    {
     "data": {
      "text/html": [
       "<div>\n",
       "<style scoped>\n",
       "    .dataframe tbody tr th:only-of-type {\n",
       "        vertical-align: middle;\n",
       "    }\n",
       "\n",
       "    .dataframe tbody tr th {\n",
       "        vertical-align: top;\n",
       "    }\n",
       "\n",
       "    .dataframe thead th {\n",
       "        text-align: right;\n",
       "    }\n",
       "</style>\n",
       "<table border=\"1\" class=\"dataframe\">\n",
       "  <thead>\n",
       "    <tr style=\"text-align: right;\">\n",
       "      <th></th>\n",
       "      <th>timestamp</th>\n",
       "      <th>accX</th>\n",
       "      <th>accY</th>\n",
       "      <th>accZ</th>\n",
       "      <th>gyroX</th>\n",
       "      <th>gyroY</th>\n",
       "      <th>gyroZ</th>\n",
       "      <th>Label</th>\n",
       "    </tr>\n",
       "  </thead>\n",
       "  <tbody>\n",
       "    <tr>\n",
       "      <th>0</th>\n",
       "      <td>1.732189e+09</td>\n",
       "      <td>-5.527879</td>\n",
       "      <td>-4.858718</td>\n",
       "      <td>-2.166334</td>\n",
       "      <td>-0.966667</td>\n",
       "      <td>-3.166667</td>\n",
       "      <td>-0.966667</td>\n",
       "      <td>[ indietro]</td>\n",
       "    </tr>\n",
       "    <tr>\n",
       "      <th>1</th>\n",
       "      <td>1.732189e+09</td>\n",
       "      <td>-5.200716</td>\n",
       "      <td>-5.413599</td>\n",
       "      <td>-2.259820</td>\n",
       "      <td>-0.366667</td>\n",
       "      <td>-2.866667</td>\n",
       "      <td>-1.400000</td>\n",
       "      <td>[ indietro]</td>\n",
       "    </tr>\n",
       "    <tr>\n",
       "      <th>2</th>\n",
       "      <td>1.732189e+09</td>\n",
       "      <td>-3.524709</td>\n",
       "      <td>-5.594171</td>\n",
       "      <td>-1.247677</td>\n",
       "      <td>0.600000</td>\n",
       "      <td>-1.800000</td>\n",
       "      <td>-2.133333</td>\n",
       "      <td>[ indietro]</td>\n",
       "    </tr>\n",
       "    <tr>\n",
       "      <th>3</th>\n",
       "      <td>1.732189e+09</td>\n",
       "      <td>-0.023709</td>\n",
       "      <td>-6.387939</td>\n",
       "      <td>1.155626</td>\n",
       "      <td>0.833333</td>\n",
       "      <td>-0.166667</td>\n",
       "      <td>-2.433333</td>\n",
       "      <td>[ indietro]</td>\n",
       "    </tr>\n",
       "    <tr>\n",
       "      <th>4</th>\n",
       "      <td>1.732189e+09</td>\n",
       "      <td>2.153291</td>\n",
       "      <td>-6.756805</td>\n",
       "      <td>2.129320</td>\n",
       "      <td>0.600000</td>\n",
       "      <td>1.000000</td>\n",
       "      <td>-2.400000</td>\n",
       "      <td>[ indietro]</td>\n",
       "    </tr>\n",
       "    <tr>\n",
       "      <th>...</th>\n",
       "      <td>...</td>\n",
       "      <td>...</td>\n",
       "      <td>...</td>\n",
       "      <td>...</td>\n",
       "      <td>...</td>\n",
       "      <td>...</td>\n",
       "      <td>...</td>\n",
       "      <td>...</td>\n",
       "    </tr>\n",
       "    <tr>\n",
       "      <th>40379</th>\n",
       "      <td>1.732189e+09</td>\n",
       "      <td>6.151457</td>\n",
       "      <td>-13.349115</td>\n",
       "      <td>13.103255</td>\n",
       "      <td>2.633333</td>\n",
       "      <td>2.133333</td>\n",
       "      <td>0.666667</td>\n",
       "      <td>[sotto,  indietro,  sinistra]</td>\n",
       "    </tr>\n",
       "    <tr>\n",
       "      <th>40380</th>\n",
       "      <td>1.732189e+09</td>\n",
       "      <td>3.876457</td>\n",
       "      <td>-8.463914</td>\n",
       "      <td>11.822385</td>\n",
       "      <td>1.733333</td>\n",
       "      <td>0.833333</td>\n",
       "      <td>0.333333</td>\n",
       "      <td>[ indietro,  destra]</td>\n",
       "    </tr>\n",
       "    <tr>\n",
       "      <th>40381</th>\n",
       "      <td>1.732189e+09</td>\n",
       "      <td>2.689457</td>\n",
       "      <td>-6.649928</td>\n",
       "      <td>11.716661</td>\n",
       "      <td>1.266667</td>\n",
       "      <td>0.133333</td>\n",
       "      <td>0.300000</td>\n",
       "      <td>[ indietro,  destra]</td>\n",
       "    </tr>\n",
       "    <tr>\n",
       "      <th>40382</th>\n",
       "      <td>1.732189e+09</td>\n",
       "      <td>0.434457</td>\n",
       "      <td>-7.581928</td>\n",
       "      <td>12.356489</td>\n",
       "      <td>-0.266667</td>\n",
       "      <td>-0.066667</td>\n",
       "      <td>0.533333</td>\n",
       "      <td>[ indietro,  destra]</td>\n",
       "    </tr>\n",
       "    <tr>\n",
       "      <th>40383</th>\n",
       "      <td>1.732189e+09</td>\n",
       "      <td>1.650457</td>\n",
       "      <td>-9.336928</td>\n",
       "      <td>12.536335</td>\n",
       "      <td>-1.133333</td>\n",
       "      <td>-0.066667</td>\n",
       "      <td>0.333333</td>\n",
       "      <td>[ indietro,  destra]</td>\n",
       "    </tr>\n",
       "  </tbody>\n",
       "</table>\n",
       "<p>40384 rows × 8 columns</p>\n",
       "</div>"
      ],
      "text/plain": [
       "          timestamp      accX       accY       accZ     gyroX     gyroY  \\\n",
       "0      1.732189e+09 -5.527879  -4.858718  -2.166334 -0.966667 -3.166667   \n",
       "1      1.732189e+09 -5.200716  -5.413599  -2.259820 -0.366667 -2.866667   \n",
       "2      1.732189e+09 -3.524709  -5.594171  -1.247677  0.600000 -1.800000   \n",
       "3      1.732189e+09 -0.023709  -6.387939   1.155626  0.833333 -0.166667   \n",
       "4      1.732189e+09  2.153291  -6.756805   2.129320  0.600000  1.000000   \n",
       "...             ...       ...        ...        ...       ...       ...   \n",
       "40379  1.732189e+09  6.151457 -13.349115  13.103255  2.633333  2.133333   \n",
       "40380  1.732189e+09  3.876457  -8.463914  11.822385  1.733333  0.833333   \n",
       "40381  1.732189e+09  2.689457  -6.649928  11.716661  1.266667  0.133333   \n",
       "40382  1.732189e+09  0.434457  -7.581928  12.356489 -0.266667 -0.066667   \n",
       "40383  1.732189e+09  1.650457  -9.336928  12.536335 -1.133333 -0.066667   \n",
       "\n",
       "          gyroZ                          Label  \n",
       "0     -0.966667                    [ indietro]  \n",
       "1     -1.400000                    [ indietro]  \n",
       "2     -2.133333                    [ indietro]  \n",
       "3     -2.433333                    [ indietro]  \n",
       "4     -2.400000                    [ indietro]  \n",
       "...         ...                            ...  \n",
       "40379  0.666667  [sotto,  indietro,  sinistra]  \n",
       "40380  0.333333           [ indietro,  destra]  \n",
       "40381  0.300000           [ indietro,  destra]  \n",
       "40382  0.533333           [ indietro,  destra]  \n",
       "40383  0.333333           [ indietro,  destra]  \n",
       "\n",
       "[40384 rows x 8 columns]"
      ]
     },
     "execution_count": 35,
     "metadata": {},
     "output_type": "execute_result"
    }
   ],
=======
   "execution_count": null,
   "metadata": {},
   "outputs": [],
>>>>>>> fc7be962357dc3a404ae741c1c41d05644a44992
   "source": [
    "df['Label'] = df['Label'].apply(trasforma)\n",
    "df"
   ]
  },
  {
   "cell_type": "code",
<<<<<<< HEAD
   "execution_count": 36,
   "metadata": {},
   "outputs": [
    {
     "data": {
      "text/plain": [
       "Label\n",
       "[ fermo]                         7824\n",
       "[ indietro]                      6948\n",
       "[sopra,  indietro]               3252\n",
       "[sotto,  indietro,  sinistra]    2880\n",
       "[sopra,  fermo]                  2448\n",
       "[ indietro,  sinistra]           2280\n",
       "[sotto,  indietro]               2136\n",
       "[ indietro,  destra]             1816\n",
       "[ fermo,  sinistra]              1776\n",
       "[sotto,  fermo]                  1668\n",
       "[ avanti]                        1200\n",
       "[sotto,  indietro,  destra]      1056\n",
       "[sopra,  indietro,  destra]       984\n",
       "[sopra,  indietro,  sinistra]     780\n",
       "[sotto,  sinistra]                624\n",
       "[sopra,  avanti]                  456\n",
       "[sopra,  avanti,  sinistra]       396\n",
       "[ fermo,  destra]                 348\n",
       "[ avanti,  sinistra]              312\n",
       "[sopra,  sinistra]                300\n",
       "[sotto,  avanti,  sinistra]       264\n",
       "[sotto,  avanti]                  132\n",
       "[sotto,  destra]                  132\n",
       "[sopra,  avanti,  destra]         120\n",
       "[sopra,  destra]                  120\n",
       "[ avanti,  destra]                 84\n",
       "[sotto,  avanti,  destra]          48\n",
       "Name: count, dtype: int64"
      ]
     },
     "execution_count": 36,
     "metadata": {},
     "output_type": "execute_result"
    }
   ],
=======
   "execution_count": null,
   "metadata": {},
   "outputs": [],
>>>>>>> fc7be962357dc3a404ae741c1c41d05644a44992
   "source": [
    "df['Label'].value_counts()\n",
    "#controllo se ci sono label vuote (no)"
   ]
  },
  {
   "cell_type": "code",
<<<<<<< HEAD
   "execution_count": 37,
=======
   "execution_count": null,
>>>>>>> fc7be962357dc3a404ae741c1c41d05644a44992
   "metadata": {},
   "outputs": [],
   "source": [
    "# trasformazione label in binarie, per poi fornirle al modello\n",
    "mlb = MultiLabelBinarizer()\n",
    "binary_labels = mlb.fit_transform(df['Label'])\n",
    "print(binary_labels[0])"
   ]
  },
  {
   "cell_type": "code",
<<<<<<< HEAD
   "execution_count": 38,
=======
   "execution_count": null,
>>>>>>> fc7be962357dc3a404ae741c1c41d05644a44992
   "metadata": {},
   "outputs": [],
   "source": [
    "#mostra le classi corrispondenti\n",
    "print(mlb.classes_) "
   ]
  },
  {
   "cell_type": "markdown",
   "metadata": {},
   "source": [
    "# aggiuntiva per migliorare il training\n",
    "non runnate a meno che sicuri"
   ]
  },
  {
   "cell_type": "code",
<<<<<<< HEAD
   "execution_count": 39,
=======
   "execution_count": null,
>>>>>>> fc7be962357dc3a404ae741c1c41d05644a44992
   "metadata": {},
   "outputs": [],
   "source": [
    "df2 = df.drop('timestamp', axis = 1)\n",
    "df2 = df2.drop('gyroX', axis = 1)\n",
    "df2 = df2.drop('gyroY', axis = 1)\n",
    "df2 = df2.drop('gyroZ', axis = 1)\n"
   ]
  },
  {
   "cell_type": "code",
<<<<<<< HEAD
   "execution_count": 40,
   "metadata": {},
   "outputs": [
    {
     "data": {
      "text/html": [
       "<div>\n",
       "<style scoped>\n",
       "    .dataframe tbody tr th:only-of-type {\n",
       "        vertical-align: middle;\n",
       "    }\n",
       "\n",
       "    .dataframe tbody tr th {\n",
       "        vertical-align: top;\n",
       "    }\n",
       "\n",
       "    .dataframe thead th {\n",
       "        text-align: right;\n",
       "    }\n",
       "</style>\n",
       "<table border=\"1\" class=\"dataframe\">\n",
       "  <thead>\n",
       "    <tr style=\"text-align: right;\">\n",
       "      <th></th>\n",
       "      <th>accX</th>\n",
       "      <th>accY</th>\n",
       "      <th>accZ</th>\n",
       "      <th>Label</th>\n",
       "    </tr>\n",
       "  </thead>\n",
       "  <tbody>\n",
       "    <tr>\n",
       "      <th>0</th>\n",
       "      <td>-5.527879</td>\n",
       "      <td>-4.858718</td>\n",
       "      <td>-2.166334</td>\n",
       "      <td>[ indietro]</td>\n",
       "    </tr>\n",
       "    <tr>\n",
       "      <th>1</th>\n",
       "      <td>-5.200716</td>\n",
       "      <td>-5.413599</td>\n",
       "      <td>-2.259820</td>\n",
       "      <td>[ indietro]</td>\n",
       "    </tr>\n",
       "    <tr>\n",
       "      <th>2</th>\n",
       "      <td>-3.524709</td>\n",
       "      <td>-5.594171</td>\n",
       "      <td>-1.247677</td>\n",
       "      <td>[ indietro]</td>\n",
       "    </tr>\n",
       "    <tr>\n",
       "      <th>3</th>\n",
       "      <td>-0.023709</td>\n",
       "      <td>-6.387939</td>\n",
       "      <td>1.155626</td>\n",
       "      <td>[ indietro]</td>\n",
       "    </tr>\n",
       "    <tr>\n",
       "      <th>4</th>\n",
       "      <td>2.153291</td>\n",
       "      <td>-6.756805</td>\n",
       "      <td>2.129320</td>\n",
       "      <td>[ indietro]</td>\n",
       "    </tr>\n",
       "    <tr>\n",
       "      <th>...</th>\n",
       "      <td>...</td>\n",
       "      <td>...</td>\n",
       "      <td>...</td>\n",
       "      <td>...</td>\n",
       "    </tr>\n",
       "    <tr>\n",
       "      <th>40379</th>\n",
       "      <td>6.151457</td>\n",
       "      <td>-13.349115</td>\n",
       "      <td>13.103255</td>\n",
       "      <td>[sotto,  indietro,  sinistra]</td>\n",
       "    </tr>\n",
       "    <tr>\n",
       "      <th>40380</th>\n",
       "      <td>3.876457</td>\n",
       "      <td>-8.463914</td>\n",
       "      <td>11.822385</td>\n",
       "      <td>[ indietro,  destra]</td>\n",
       "    </tr>\n",
       "    <tr>\n",
       "      <th>40381</th>\n",
       "      <td>2.689457</td>\n",
       "      <td>-6.649928</td>\n",
       "      <td>11.716661</td>\n",
       "      <td>[ indietro,  destra]</td>\n",
       "    </tr>\n",
       "    <tr>\n",
       "      <th>40382</th>\n",
       "      <td>0.434457</td>\n",
       "      <td>-7.581928</td>\n",
       "      <td>12.356489</td>\n",
       "      <td>[ indietro,  destra]</td>\n",
       "    </tr>\n",
       "    <tr>\n",
       "      <th>40383</th>\n",
       "      <td>1.650457</td>\n",
       "      <td>-9.336928</td>\n",
       "      <td>12.536335</td>\n",
       "      <td>[ indietro,  destra]</td>\n",
       "    </tr>\n",
       "  </tbody>\n",
       "</table>\n",
       "<p>40384 rows × 4 columns</p>\n",
       "</div>"
      ],
      "text/plain": [
       "           accX       accY       accZ                          Label\n",
       "0     -5.527879  -4.858718  -2.166334                    [ indietro]\n",
       "1     -5.200716  -5.413599  -2.259820                    [ indietro]\n",
       "2     -3.524709  -5.594171  -1.247677                    [ indietro]\n",
       "3     -0.023709  -6.387939   1.155626                    [ indietro]\n",
       "4      2.153291  -6.756805   2.129320                    [ indietro]\n",
       "...         ...        ...        ...                            ...\n",
       "40379  6.151457 -13.349115  13.103255  [sotto,  indietro,  sinistra]\n",
       "40380  3.876457  -8.463914  11.822385           [ indietro,  destra]\n",
       "40381  2.689457  -6.649928  11.716661           [ indietro,  destra]\n",
       "40382  0.434457  -7.581928  12.356489           [ indietro,  destra]\n",
       "40383  1.650457  -9.336928  12.536335           [ indietro,  destra]\n",
       "\n",
       "[40384 rows x 4 columns]"
      ]
     },
     "execution_count": 40,
     "metadata": {},
     "output_type": "execute_result"
    }
   ],
=======
   "execution_count": null,
   "metadata": {},
   "outputs": [],
>>>>>>> fc7be962357dc3a404ae741c1c41d05644a44992
   "source": [
    "df2"
   ]
  },
  {
<<<<<<< HEAD
=======
   "cell_type": "code",
   "execution_count": null,
   "metadata": {},
   "outputs": [],
   "source": [
    "# Caricamento e suddivisione dei dati\n",
    "x = df2.drop('Label', axis  = 1)\n",
    "y = binary_labels"
   ]
  },
  {
>>>>>>> fc7be962357dc3a404ae741c1c41d05644a44992
   "cell_type": "markdown",
   "metadata": {},
   "source": [
    "# train test split"
   ]
  },
  {
   "cell_type": "code",
   "execution_count": 41,
   "metadata": {},
   "outputs": [],
   "source": [
    "# Caricamento e suddivisione dei dati\n",
<<<<<<< HEAD
    "x = df2.drop('Label', axis  = 1)\n",
=======
    "# non avviare a meno che si voglia usare il modello fra virgolette\n",
    "x = df.drop('Label', axis  = 1)\n",
>>>>>>> fc7be962357dc3a404ae741c1c41d05644a44992
    "y = binary_labels"
   ]
  },
  {
   "cell_type": "code",
<<<<<<< HEAD
   "execution_count": 42,
=======
   "execution_count": null,
>>>>>>> fc7be962357dc3a404ae741c1c41d05644a44992
   "metadata": {},
   "outputs": [],
   "source": [
    "x_train, x_test, y_train, y_test = train_test_split(x, y, test_size=0.2, random_state=42, stratify=y)"
   ]
  },
  {
   "cell_type": "markdown",
   "metadata": {},
   "source": [
    "# normalizzazione"
   ]
  },
  {
   "cell_type": "code",
<<<<<<< HEAD
   "execution_count": 43,
=======
   "execution_count": null,
>>>>>>> fc7be962357dc3a404ae741c1c41d05644a44992
   "metadata": {},
   "outputs": [],
   "source": [
    "scaler = MinMaxScaler(feature_range=(0, 1))\n",
<<<<<<< HEAD
    "x_train  = scaler.fit_transform(x_train)\n",
    "x_test  = scaler.transform(x_test)"
=======
    "x_train = scaler.fit_transform(x_train)\n",
    "x_test = scaler.transform(x_test)"
>>>>>>> fc7be962357dc3a404ae741c1c41d05644a44992
   ]
  },
  {
   "cell_type": "code",
<<<<<<< HEAD
   "execution_count": 44,
   "metadata": {},
   "outputs": [
    {
     "name": "stdout",
     "output_type": "stream",
     "text": [
      "(32307, 3)\n"
     ]
    },
    {
     "data": {
      "text/plain": [
       "(32307, 7)"
      ]
     },
     "execution_count": 44,
     "metadata": {},
     "output_type": "execute_result"
    }
   ],
=======
   "execution_count": null,
   "metadata": {},
   "outputs": [],
>>>>>>> fc7be962357dc3a404ae741c1c41d05644a44992
   "source": [
    "print(x_train.shape)\n",
    "y_train.shape"
   ]
  },
  {
   "cell_type": "markdown",
   "metadata": {},
   "source": [
    "# convertire i dati per il modello"
   ]
  },
  {
   "cell_type": "code",
<<<<<<< HEAD
   "execution_count": 45,
   "metadata": {},
   "outputs": [
    {
     "name": "stdout",
     "output_type": "stream",
     "text": [
      "(32296, 12, 3)\n"
     ]
    },
    {
     "data": {
      "text/plain": [
       "(8066, 12, 3)"
      ]
     },
     "execution_count": 45,
     "metadata": {},
     "output_type": "execute_result"
    }
   ],
=======
   "execution_count": null,
   "metadata": {},
   "outputs": [],
>>>>>>> fc7be962357dc3a404ae741c1c41d05644a44992
   "source": [
    "sequence_length = 12 #sequenza degli istanti temporali\n",
    "\n",
    "def create_sequences(train, sequence_length):\n",
    "    \n",
    "    seq_temp = []\n",
    "    for i in range(len(train) - sequence_length + 1):\n",
    "        seq_temp.append(train[i:i + sequence_length])\n",
    "    return np.array(seq_temp)\n",
    "\n",
    "x_train = create_sequences(x_train, sequence_length)\n",
    "x_test = create_sequences(x_test, sequence_length)\n",
    "\n",
    "print(x_train.shape)\n",
    "x_test.shape"
   ]
  },
  {
   "cell_type": "code",
<<<<<<< HEAD
   "execution_count": 46,
   "metadata": {},
   "outputs": [
    {
     "name": "stdout",
     "output_type": "stream",
     "text": [
      "11\n"
     ]
    }
   ],
=======
   "execution_count": null,
   "metadata": {},
   "outputs": [],
>>>>>>> fc7be962357dc3a404ae741c1c41d05644a44992
   "source": [
    "#scartiamo da y_test i dati in eccesso che non riescono a creare una sequenza intera\n",
    "diff = len(y_test) - len(x_test)\n",
    "print(diff)\n",
    "\n",
    "if diff > 0:\n",
    "    y_test = y_test[:-diff]"
   ]
  },
  {
   "cell_type": "markdown",
   "metadata": {},
   "source": [
    "# addestramento"
   ]
  },
  {
   "cell_type": "code",
<<<<<<< HEAD
   "execution_count": 47,
=======
   "execution_count": null,
>>>>>>> fc7be962357dc3a404ae741c1c41d05644a44992
   "metadata": {},
   "outputs": [],
   "source": [
    "from tensorflow.keras.callbacks import EarlyStopping"
   ]
  },
  {
<<<<<<< HEAD
   "cell_type": "code",
   "execution_count": 51,
   "metadata": {},
   "outputs": [
    {
     "name": "stderr",
     "output_type": "stream",
     "text": [
      "c:\\Users\\NicoloCalcagno\\miniconda3\\envs\\UFS12DL\\lib\\site-packages\\keras\\src\\layers\\rnn\\rnn.py:204: UserWarning: Do not pass an `input_shape`/`input_dim` argument to a layer. When using Sequential models, prefer using an `Input(shape)` object as the first layer in the model instead.\n",
      "  super().__init__(**kwargs)\n"
     ]
    },
    {
     "name": "stdout",
     "output_type": "stream",
     "text": [
      "Epoch 1/10\n",
      "\u001b[1m808/808\u001b[0m \u001b[32m━━━━━━━━━━━━━━━━━━━━\u001b[0m\u001b[37m\u001b[0m \u001b[1m25s\u001b[0m 22ms/step - accuracy: 0.4253 - loss: 0.5244 - val_accuracy: 0.4399 - val_loss: 0.5058\n",
      "Epoch 2/10\n",
      "\u001b[1m808/808\u001b[0m \u001b[32m━━━━━━━━━━━━━━━━━━━━\u001b[0m\u001b[37m\u001b[0m \u001b[1m19s\u001b[0m 23ms/step - accuracy: 0.4230 - loss: 0.4775 - val_accuracy: 0.6491 - val_loss: 0.3879\n",
      "Epoch 3/10\n",
      "\u001b[1m808/808\u001b[0m \u001b[32m━━━━━━━━━━━━━━━━━━━━\u001b[0m\u001b[37m\u001b[0m \u001b[1m19s\u001b[0m 23ms/step - accuracy: 0.6502 - loss: 0.3966 - val_accuracy: 0.6978 - val_loss: 0.3571\n",
      "Epoch 4/10\n",
      "\u001b[1m808/808\u001b[0m \u001b[32m━━━━━━━━━━━━━━━━━━━━\u001b[0m\u001b[37m\u001b[0m \u001b[1m18s\u001b[0m 22ms/step - accuracy: 0.6896 - loss: 0.3662 - val_accuracy: 0.6964 - val_loss: 0.3496\n",
      "Epoch 5/10\n",
      "\u001b[1m808/808\u001b[0m \u001b[32m━━━━━━━━━━━━━━━━━━━━\u001b[0m\u001b[37m\u001b[0m \u001b[1m19s\u001b[0m 24ms/step - accuracy: 0.6955 - loss: 0.3558 - val_accuracy: 0.6704 - val_loss: 0.3339\n"
     ]
    },
    {
     "data": {
      "text/plain": [
       "<keras.src.callbacks.history.History at 0x22f24e89ae0>"
      ]
     },
     "execution_count": 51,
     "metadata": {},
     "output_type": "execute_result"
    }
   ],
=======
   "cell_type": "markdown",
   "metadata": {},
   "source": [
    "# cosa dobbiamo fare\n",
    "- implementare un early stopping al modello prima che cali d'accuracy\n",
    "- giocare con l'ampiezza di una sequenza temporale (adesso è 10)\n",
    "- aumentare le dimensioni del modello (mettiamo più strati, per farlo dopo uno strato bisogna mettere return_sequences)"
   ]
  },
  {
   "cell_type": "code",
   "execution_count": null,
   "metadata": {},
   "outputs": [],
>>>>>>> fc7be962357dc3a404ae741c1c41d05644a44992
   "source": [
    "# Creazione del modello LSTM\n",
    "model = Sequential()\n",
    "model.add(LSTM(128, input_shape=(sequence_length, 3), return_sequences=True))\n",
    "model.add(Dropout(0.2))\n",
    "model.add(LSTM(64, return_sequences=True))\n",
    "model.add(Dropout(0.2))\n",
    "model.add(LSTM(32))\n",
    "model.add(Dropout(0.2))\n",
    "model.add(Dense(8, activation='sigmoid'))  \n",
    "\n",
    "early_stopping = EarlyStopping(\n",
    "    monitor='val_accuracy',             #controlla la perdita della validazione\n",
    "    patience=2,                     #numero di epoche senza miglioramenti dopo le quali fermare l'addestramento\n",
    "    restore_best_weights=True       #ripristina i pesi del modello alla migliore epoca quando si ferma\n",
    ")\n",
    "\n",
    "# Compilazione del modello\n",
    "model.compile(optimizer='adam', loss='binary_crossentropy', metrics=['accuracy'])\n",
    "\n",
    "# Allenamento\n",
<<<<<<< HEAD
    "model.fit(x_train, y_train, epochs=10, batch_size=32, validation_split=0.2, callbacks= early_stopping)\n",
    "\n"
=======
    "model.fit(x_train, y_train, epochs=10, batch_size=32, validation_split=0.2)"
>>>>>>> fc7be962357dc3a404ae741c1c41d05644a44992
   ]
  },
  {
   "cell_type": "code",
<<<<<<< HEAD
   "execution_count": 54,
   "metadata": {},
   "outputs": [
    {
     "name": "stdout",
     "output_type": "stream",
     "text": [
      "\u001b[1m253/253\u001b[0m \u001b[32m━━━━━━━━━━━━━━━━━━━━\u001b[0m\u001b[37m\u001b[0m \u001b[1m2s\u001b[0m 9ms/step\n"
     ]
    }
   ],
=======
   "execution_count": null,
   "metadata": {},
   "outputs": [],
>>>>>>> fc7be962357dc3a404ae741c1c41d05644a44992
   "source": [
    "from sklearn.metrics import accuracy_score\n",
    "# Valutazione\n",
    "\n",
    "predizioni = model.predict(x_test)\n",
    "soglia_corretto = 0.6\n",
    "predicted_labels = (predizioni > soglia_corretto)\n",
    "\n",
    "accuracy = accuracy_score(y_test, predicted_labels)"
   ]
  },
  {
   "cell_type": "code",
<<<<<<< HEAD
   "execution_count": 55,
   "metadata": {},
   "outputs": [
    {
     "name": "stdout",
     "output_type": "stream",
     "text": [
      "Accuracy: 0.3401934044135879\n"
     ]
    }
   ],
=======
   "execution_count": null,
   "metadata": {},
   "outputs": [],
>>>>>>> fc7be962357dc3a404ae741c1c41d05644a44992
   "source": [
    "print(f\"Accuracy: {accuracy}\")"
   ]
  },
  {
   "cell_type": "code",
   "execution_count": null,
   "metadata": {},
   "outputs": [],
   "source": [
    "from sklearn.metrics import classification_report\n",
    "\n",
    "print(classification_report(y_test, predicted_labels, target_names=mlb.classes_))\n"
   ]
  },
  {
   "cell_type": "code",
   "execution_count": null,
   "metadata": {},
   "outputs": [],
   "source": []
  }
 ],
 "metadata": {
  "kernelspec": {
   "display_name": "dlgpu",
   "language": "python",
   "name": "python3"
  },
  "language_info": {
   "codemirror_mode": {
    "name": "ipython",
    "version": 3
   },
   "file_extension": ".py",
   "mimetype": "text/x-python",
   "name": "python",
   "nbconvert_exporter": "python",
   "pygments_lexer": "ipython3",
   "version": "3.9.19"
  }
 },
 "nbformat": 4,
 "nbformat_minor": 2
}
