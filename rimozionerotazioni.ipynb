{
 "cells": [
  {
   "cell_type": "code",
   "execution_count": 4,
   "metadata": {},
   "outputs": [],
   "source": [
    "import pandas as pd\n",
    "import ast"
   ]
  },
  {
   "cell_type": "code",
   "execution_count": null,
   "metadata": {},
   "outputs": [],
   "source": [
    "df = pd.read_csv(\"DATI.csv\")"
   ]
  },
  {
   "cell_type": "code",
   "execution_count": null,
   "metadata": {},
   "outputs": [],
   "source": [
    "colonna = \"Label\"\n",
    "df[colonna] = df[colonna].apply(lambda x: ast.literal_eval(x) if isinstance(x, str) else x)\n",
    "indici_da_rimuovere = [3, 4, 5]\n",
    "\n",
    "def rimuovi_con_indici(lista, indici):\n",
    "    if not isinstance(lista, list):  \n",
    "        return lista\n",
    "    return [el for i, el in enumerate(lista) if i not in indici]\n",
    "\n",
    "df[colonna] = df[colonna].apply(lambda lista: rimuovi_con_indici(lista, indici_da_rimuovere))"
   ]
  },
  {
   "cell_type": "code",
   "execution_count": null,
   "metadata": {},
   "outputs": [],
   "source": [
    "\n",
    "df.to_csv(\"DATI_With_Out_Rotation_Label.csv\", index=False)"
   ]
  }
 ],
 "metadata": {
  "kernelspec": {
   "display_name": "Joystick",
   "language": "python",
   "name": "python3"
  },
  "language_info": {
   "codemirror_mode": {
    "name": "ipython",
    "version": 3
   },
   "file_extension": ".py",
   "mimetype": "text/x-python",
   "name": "python",
   "nbconvert_exporter": "python",
   "pygments_lexer": "ipython3",
   "version": "3.10.13"
  }
 },
 "nbformat": 4,
 "nbformat_minor": 2
}
