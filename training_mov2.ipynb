{
 "cells": [
  {
   "cell_type": "markdown",
   "metadata": {},
   "source": [
    "# Import"
   ]
  },
  {
   "cell_type": "code",
   "execution_count": 1,
   "metadata": {},
   "outputs": [],
   "source": [
    "import pandas as pd\n",
    "import numpy as np\n",
    "from keras.models import Sequential\n",
    "from keras.layers import LSTM, Dense, Dropout\n",
    "from sklearn.model_selection import train_test_split\n",
    "from sklearn.preprocessing import MinMaxScaler\n",
    "from collections import Counter\n",
    "from sklearn.preprocessing import MultiLabelBinarizer\n",
    "import matplotlib.pyplot as plt\n",
    "import seaborn as sns\n",
    "from sklearn.metrics import confusion_matrix\n"
   ]
  },
  {
   "cell_type": "markdown",
   "metadata": {},
   "source": [
    "# Data exploring"
   ]
  },
  {
   "cell_type": "code",
   "execution_count": 2,
   "metadata": {},
   "outputs": [
    {
     "data": {
      "text/html": [
       "<div>\n",
       "<style scoped>\n",
       "    .dataframe tbody tr th:only-of-type {\n",
       "        vertical-align: middle;\n",
       "    }\n",
       "\n",
       "    .dataframe tbody tr th {\n",
       "        vertical-align: top;\n",
       "    }\n",
       "\n",
       "    .dataframe thead th {\n",
       "        text-align: right;\n",
       "    }\n",
       "</style>\n",
       "<table border=\"1\" class=\"dataframe\">\n",
       "  <thead>\n",
       "    <tr style=\"text-align: right;\">\n",
       "      <th></th>\n",
       "      <th>timestamp</th>\n",
       "      <th>accX</th>\n",
       "      <th>accY</th>\n",
       "      <th>accZ</th>\n",
       "      <th>gyroX</th>\n",
       "      <th>gyroY</th>\n",
       "      <th>gyroZ</th>\n",
       "      <th>Label</th>\n",
       "    </tr>\n",
       "  </thead>\n",
       "  <tbody>\n",
       "    <tr>\n",
       "      <th>0</th>\n",
       "      <td>1.733400e+09</td>\n",
       "      <td>2.261141</td>\n",
       "      <td>5.214785</td>\n",
       "      <td>-1.392926</td>\n",
       "      <td>['fermo', 'fermo', 'fermo']</td>\n",
       "      <td>NaN</td>\n",
       "      <td>NaN</td>\n",
       "      <td>NaN</td>\n",
       "    </tr>\n",
       "    <tr>\n",
       "      <th>1</th>\n",
       "      <td>1.733400e+09</td>\n",
       "      <td>1.937141</td>\n",
       "      <td>5.244785</td>\n",
       "      <td>-1.023467</td>\n",
       "      <td>['fermo', 'fermo', 'fermo']</td>\n",
       "      <td>NaN</td>\n",
       "      <td>NaN</td>\n",
       "      <td>NaN</td>\n",
       "    </tr>\n",
       "    <tr>\n",
       "      <th>2</th>\n",
       "      <td>1.733400e+09</td>\n",
       "      <td>1.398141</td>\n",
       "      <td>5.400785</td>\n",
       "      <td>-0.677045</td>\n",
       "      <td>['fermo', 'fermo', 'fermo']</td>\n",
       "      <td>NaN</td>\n",
       "      <td>NaN</td>\n",
       "      <td>NaN</td>\n",
       "    </tr>\n",
       "    <tr>\n",
       "      <th>3</th>\n",
       "      <td>1.733400e+09</td>\n",
       "      <td>0.800141</td>\n",
       "      <td>5.587785</td>\n",
       "      <td>-0.298913</td>\n",
       "      <td>['fermo', 'fermo', 'fermo']</td>\n",
       "      <td>NaN</td>\n",
       "      <td>NaN</td>\n",
       "      <td>NaN</td>\n",
       "    </tr>\n",
       "    <tr>\n",
       "      <th>4</th>\n",
       "      <td>1.733400e+09</td>\n",
       "      <td>0.290141</td>\n",
       "      <td>5.723785</td>\n",
       "      <td>0.281959</td>\n",
       "      <td>['fermo', 'fermo', 'fermo']</td>\n",
       "      <td>NaN</td>\n",
       "      <td>NaN</td>\n",
       "      <td>NaN</td>\n",
       "    </tr>\n",
       "    <tr>\n",
       "      <th>...</th>\n",
       "      <td>...</td>\n",
       "      <td>...</td>\n",
       "      <td>...</td>\n",
       "      <td>...</td>\n",
       "      <td>...</td>\n",
       "      <td>...</td>\n",
       "      <td>...</td>\n",
       "      <td>...</td>\n",
       "    </tr>\n",
       "    <tr>\n",
       "      <th>41141</th>\n",
       "      <td>1.733401e+09</td>\n",
       "      <td>8.508712</td>\n",
       "      <td>-1.795462</td>\n",
       "      <td>0.818229</td>\n",
       "      <td>['sotto', 'fermo', 'fermo']</td>\n",
       "      <td>NaN</td>\n",
       "      <td>NaN</td>\n",
       "      <td>NaN</td>\n",
       "    </tr>\n",
       "    <tr>\n",
       "      <th>41142</th>\n",
       "      <td>1.733401e+09</td>\n",
       "      <td>8.776462</td>\n",
       "      <td>-0.726462</td>\n",
       "      <td>-0.613555</td>\n",
       "      <td>['sotto', 'fermo', 'fermo']</td>\n",
       "      <td>NaN</td>\n",
       "      <td>NaN</td>\n",
       "      <td>NaN</td>\n",
       "    </tr>\n",
       "    <tr>\n",
       "      <th>41143</th>\n",
       "      <td>1.733401e+09</td>\n",
       "      <td>9.898576</td>\n",
       "      <td>-6.979712</td>\n",
       "      <td>-6.392718</td>\n",
       "      <td>['sotto', 'avanti', 'fermo']</td>\n",
       "      <td>NaN</td>\n",
       "      <td>NaN</td>\n",
       "      <td>NaN</td>\n",
       "    </tr>\n",
       "    <tr>\n",
       "      <th>41144</th>\n",
       "      <td>1.733401e+09</td>\n",
       "      <td>8.937576</td>\n",
       "      <td>-0.515378</td>\n",
       "      <td>0.985285</td>\n",
       "      <td>['sotto', 'fermo', 'fermo']</td>\n",
       "      <td>NaN</td>\n",
       "      <td>NaN</td>\n",
       "      <td>NaN</td>\n",
       "    </tr>\n",
       "    <tr>\n",
       "      <th>41145</th>\n",
       "      <td>1.733401e+09</td>\n",
       "      <td>9.103576</td>\n",
       "      <td>-0.358378</td>\n",
       "      <td>0.818953</td>\n",
       "      <td>['sotto', 'fermo', 'fermo']</td>\n",
       "      <td>NaN</td>\n",
       "      <td>NaN</td>\n",
       "      <td>NaN</td>\n",
       "    </tr>\n",
       "  </tbody>\n",
       "</table>\n",
       "<p>41146 rows × 8 columns</p>\n",
       "</div>"
      ],
      "text/plain": [
       "          timestamp      accX      accY      accZ  \\\n",
       "0      1.733400e+09  2.261141  5.214785 -1.392926   \n",
       "1      1.733400e+09  1.937141  5.244785 -1.023467   \n",
       "2      1.733400e+09  1.398141  5.400785 -0.677045   \n",
       "3      1.733400e+09  0.800141  5.587785 -0.298913   \n",
       "4      1.733400e+09  0.290141  5.723785  0.281959   \n",
       "...             ...       ...       ...       ...   \n",
       "41141  1.733401e+09  8.508712 -1.795462  0.818229   \n",
       "41142  1.733401e+09  8.776462 -0.726462 -0.613555   \n",
       "41143  1.733401e+09  9.898576 -6.979712 -6.392718   \n",
       "41144  1.733401e+09  8.937576 -0.515378  0.985285   \n",
       "41145  1.733401e+09  9.103576 -0.358378  0.818953   \n",
       "\n",
       "                              gyroX  gyroY  gyroZ  Label  \n",
       "0       ['fermo', 'fermo', 'fermo']    NaN    NaN    NaN  \n",
       "1       ['fermo', 'fermo', 'fermo']    NaN    NaN    NaN  \n",
       "2       ['fermo', 'fermo', 'fermo']    NaN    NaN    NaN  \n",
       "3       ['fermo', 'fermo', 'fermo']    NaN    NaN    NaN  \n",
       "4       ['fermo', 'fermo', 'fermo']    NaN    NaN    NaN  \n",
       "...                             ...    ...    ...    ...  \n",
       "41141   ['sotto', 'fermo', 'fermo']    NaN    NaN    NaN  \n",
       "41142   ['sotto', 'fermo', 'fermo']    NaN    NaN    NaN  \n",
       "41143  ['sotto', 'avanti', 'fermo']    NaN    NaN    NaN  \n",
       "41144   ['sotto', 'fermo', 'fermo']    NaN    NaN    NaN  \n",
       "41145   ['sotto', 'fermo', 'fermo']    NaN    NaN    NaN  \n",
       "\n",
       "[41146 rows x 8 columns]"
      ]
     },
     "execution_count": 2,
     "metadata": {},
     "output_type": "execute_result"
    }
   ],
   "source": [
    "#data exploring\n",
    "df = pd.read_csv('DATI.csv')\n",
    "\n",
    "df"
   ]
  },
  {
   "cell_type": "markdown",
   "metadata": {},
   "source": [
    "# Data cleaning"
   ]
  },
  {
   "cell_type": "code",
   "execution_count": 3,
   "metadata": {},
   "outputs": [
    {
     "data": {
      "text/plain": [
       "<bound method NDFrame.head of 0         ['fermo', 'fermo', 'fermo']\n",
       "1         ['fermo', 'fermo', 'fermo']\n",
       "2         ['fermo', 'fermo', 'fermo']\n",
       "3         ['fermo', 'fermo', 'fermo']\n",
       "4         ['fermo', 'fermo', 'fermo']\n",
       "                     ...             \n",
       "41141     ['sotto', 'fermo', 'fermo']\n",
       "41142     ['sotto', 'fermo', 'fermo']\n",
       "41143    ['sotto', 'avanti', 'fermo']\n",
       "41144     ['sotto', 'fermo', 'fermo']\n",
       "41145     ['sotto', 'fermo', 'fermo']\n",
       "Name: gyroX, Length: 41146, dtype: object>"
      ]
     },
     "execution_count": 3,
     "metadata": {},
     "output_type": "execute_result"
    }
   ],
   "source": [
    "df['gyroX'].head\n",
    "#abbiamo sbagliato a raccogliere i dati e abbiamo inserito la label nella colonna sbagliata"
   ]
  },
  {
   "cell_type": "code",
   "execution_count": 4,
   "metadata": {},
   "outputs": [],
   "source": [
    "df = df.drop('gyroY', axis=1)\n",
    "df = df.drop('Label', axis=1)\n",
    "df = df.drop('gyroZ', axis=1)\n"
   ]
  },
  {
   "cell_type": "code",
   "execution_count": 5,
   "metadata": {},
   "outputs": [
    {
     "data": {
      "text/html": [
       "<div>\n",
       "<style scoped>\n",
       "    .dataframe tbody tr th:only-of-type {\n",
       "        vertical-align: middle;\n",
       "    }\n",
       "\n",
       "    .dataframe tbody tr th {\n",
       "        vertical-align: top;\n",
       "    }\n",
       "\n",
       "    .dataframe thead th {\n",
       "        text-align: right;\n",
       "    }\n",
       "</style>\n",
       "<table border=\"1\" class=\"dataframe\">\n",
       "  <thead>\n",
       "    <tr style=\"text-align: right;\">\n",
       "      <th></th>\n",
       "      <th>timestamp</th>\n",
       "      <th>accX</th>\n",
       "      <th>accY</th>\n",
       "      <th>accZ</th>\n",
       "      <th>Label</th>\n",
       "    </tr>\n",
       "  </thead>\n",
       "  <tbody>\n",
       "    <tr>\n",
       "      <th>0</th>\n",
       "      <td>1.733400e+09</td>\n",
       "      <td>2.261141</td>\n",
       "      <td>5.214785</td>\n",
       "      <td>-1.392926</td>\n",
       "      <td>['fermo', 'fermo', 'fermo']</td>\n",
       "    </tr>\n",
       "    <tr>\n",
       "      <th>1</th>\n",
       "      <td>1.733400e+09</td>\n",
       "      <td>1.937141</td>\n",
       "      <td>5.244785</td>\n",
       "      <td>-1.023467</td>\n",
       "      <td>['fermo', 'fermo', 'fermo']</td>\n",
       "    </tr>\n",
       "    <tr>\n",
       "      <th>2</th>\n",
       "      <td>1.733400e+09</td>\n",
       "      <td>1.398141</td>\n",
       "      <td>5.400785</td>\n",
       "      <td>-0.677045</td>\n",
       "      <td>['fermo', 'fermo', 'fermo']</td>\n",
       "    </tr>\n",
       "    <tr>\n",
       "      <th>3</th>\n",
       "      <td>1.733400e+09</td>\n",
       "      <td>0.800141</td>\n",
       "      <td>5.587785</td>\n",
       "      <td>-0.298913</td>\n",
       "      <td>['fermo', 'fermo', 'fermo']</td>\n",
       "    </tr>\n",
       "    <tr>\n",
       "      <th>4</th>\n",
       "      <td>1.733400e+09</td>\n",
       "      <td>0.290141</td>\n",
       "      <td>5.723785</td>\n",
       "      <td>0.281959</td>\n",
       "      <td>['fermo', 'fermo', 'fermo']</td>\n",
       "    </tr>\n",
       "    <tr>\n",
       "      <th>...</th>\n",
       "      <td>...</td>\n",
       "      <td>...</td>\n",
       "      <td>...</td>\n",
       "      <td>...</td>\n",
       "      <td>...</td>\n",
       "    </tr>\n",
       "    <tr>\n",
       "      <th>41141</th>\n",
       "      <td>1.733401e+09</td>\n",
       "      <td>8.508712</td>\n",
       "      <td>-1.795462</td>\n",
       "      <td>0.818229</td>\n",
       "      <td>['sotto', 'fermo', 'fermo']</td>\n",
       "    </tr>\n",
       "    <tr>\n",
       "      <th>41142</th>\n",
       "      <td>1.733401e+09</td>\n",
       "      <td>8.776462</td>\n",
       "      <td>-0.726462</td>\n",
       "      <td>-0.613555</td>\n",
       "      <td>['sotto', 'fermo', 'fermo']</td>\n",
       "    </tr>\n",
       "    <tr>\n",
       "      <th>41143</th>\n",
       "      <td>1.733401e+09</td>\n",
       "      <td>9.898576</td>\n",
       "      <td>-6.979712</td>\n",
       "      <td>-6.392718</td>\n",
       "      <td>['sotto', 'avanti', 'fermo']</td>\n",
       "    </tr>\n",
       "    <tr>\n",
       "      <th>41144</th>\n",
       "      <td>1.733401e+09</td>\n",
       "      <td>8.937576</td>\n",
       "      <td>-0.515378</td>\n",
       "      <td>0.985285</td>\n",
       "      <td>['sotto', 'fermo', 'fermo']</td>\n",
       "    </tr>\n",
       "    <tr>\n",
       "      <th>41145</th>\n",
       "      <td>1.733401e+09</td>\n",
       "      <td>9.103576</td>\n",
       "      <td>-0.358378</td>\n",
       "      <td>0.818953</td>\n",
       "      <td>['sotto', 'fermo', 'fermo']</td>\n",
       "    </tr>\n",
       "  </tbody>\n",
       "</table>\n",
       "<p>41146 rows × 5 columns</p>\n",
       "</div>"
      ],
      "text/plain": [
       "          timestamp      accX      accY      accZ  \\\n",
       "0      1.733400e+09  2.261141  5.214785 -1.392926   \n",
       "1      1.733400e+09  1.937141  5.244785 -1.023467   \n",
       "2      1.733400e+09  1.398141  5.400785 -0.677045   \n",
       "3      1.733400e+09  0.800141  5.587785 -0.298913   \n",
       "4      1.733400e+09  0.290141  5.723785  0.281959   \n",
       "...             ...       ...       ...       ...   \n",
       "41141  1.733401e+09  8.508712 -1.795462  0.818229   \n",
       "41142  1.733401e+09  8.776462 -0.726462 -0.613555   \n",
       "41143  1.733401e+09  9.898576 -6.979712 -6.392718   \n",
       "41144  1.733401e+09  8.937576 -0.515378  0.985285   \n",
       "41145  1.733401e+09  9.103576 -0.358378  0.818953   \n",
       "\n",
       "                              Label  \n",
       "0       ['fermo', 'fermo', 'fermo']  \n",
       "1       ['fermo', 'fermo', 'fermo']  \n",
       "2       ['fermo', 'fermo', 'fermo']  \n",
       "3       ['fermo', 'fermo', 'fermo']  \n",
       "4       ['fermo', 'fermo', 'fermo']  \n",
       "...                             ...  \n",
       "41141   ['sotto', 'fermo', 'fermo']  \n",
       "41142   ['sotto', 'fermo', 'fermo']  \n",
       "41143  ['sotto', 'avanti', 'fermo']  \n",
       "41144   ['sotto', 'fermo', 'fermo']  \n",
       "41145   ['sotto', 'fermo', 'fermo']  \n",
       "\n",
       "[41146 rows x 5 columns]"
      ]
     },
     "execution_count": 5,
     "metadata": {},
     "output_type": "execute_result"
    }
   ],
   "source": [
    "df = df.rename(columns={\"gyroX\": \"Label\"})\n",
    "df"
   ]
  },
  {
   "cell_type": "code",
   "execution_count": 6,
   "metadata": {},
   "outputs": [
    {
     "data": {
      "text/html": [
       "<div>\n",
       "<style scoped>\n",
       "    .dataframe tbody tr th:only-of-type {\n",
       "        vertical-align: middle;\n",
       "    }\n",
       "\n",
       "    .dataframe tbody tr th {\n",
       "        vertical-align: top;\n",
       "    }\n",
       "\n",
       "    .dataframe thead th {\n",
       "        text-align: right;\n",
       "    }\n",
       "</style>\n",
       "<table border=\"1\" class=\"dataframe\">\n",
       "  <thead>\n",
       "    <tr style=\"text-align: right;\">\n",
       "      <th></th>\n",
       "      <th>accX</th>\n",
       "      <th>accY</th>\n",
       "      <th>accZ</th>\n",
       "      <th>Label</th>\n",
       "    </tr>\n",
       "  </thead>\n",
       "  <tbody>\n",
       "    <tr>\n",
       "      <th>0</th>\n",
       "      <td>2.261141</td>\n",
       "      <td>5.214785</td>\n",
       "      <td>-1.392926</td>\n",
       "      <td>['fermo', 'fermo', 'fermo']</td>\n",
       "    </tr>\n",
       "    <tr>\n",
       "      <th>1</th>\n",
       "      <td>1.937141</td>\n",
       "      <td>5.244785</td>\n",
       "      <td>-1.023467</td>\n",
       "      <td>['fermo', 'fermo', 'fermo']</td>\n",
       "    </tr>\n",
       "    <tr>\n",
       "      <th>2</th>\n",
       "      <td>1.398141</td>\n",
       "      <td>5.400785</td>\n",
       "      <td>-0.677045</td>\n",
       "      <td>['fermo', 'fermo', 'fermo']</td>\n",
       "    </tr>\n",
       "    <tr>\n",
       "      <th>3</th>\n",
       "      <td>0.800141</td>\n",
       "      <td>5.587785</td>\n",
       "      <td>-0.298913</td>\n",
       "      <td>['fermo', 'fermo', 'fermo']</td>\n",
       "    </tr>\n",
       "    <tr>\n",
       "      <th>4</th>\n",
       "      <td>0.290141</td>\n",
       "      <td>5.723785</td>\n",
       "      <td>0.281959</td>\n",
       "      <td>['fermo', 'fermo', 'fermo']</td>\n",
       "    </tr>\n",
       "    <tr>\n",
       "      <th>...</th>\n",
       "      <td>...</td>\n",
       "      <td>...</td>\n",
       "      <td>...</td>\n",
       "      <td>...</td>\n",
       "    </tr>\n",
       "    <tr>\n",
       "      <th>41141</th>\n",
       "      <td>8.508712</td>\n",
       "      <td>-1.795462</td>\n",
       "      <td>0.818229</td>\n",
       "      <td>['sotto', 'fermo', 'fermo']</td>\n",
       "    </tr>\n",
       "    <tr>\n",
       "      <th>41142</th>\n",
       "      <td>8.776462</td>\n",
       "      <td>-0.726462</td>\n",
       "      <td>-0.613555</td>\n",
       "      <td>['sotto', 'fermo', 'fermo']</td>\n",
       "    </tr>\n",
       "    <tr>\n",
       "      <th>41143</th>\n",
       "      <td>9.898576</td>\n",
       "      <td>-6.979712</td>\n",
       "      <td>-6.392718</td>\n",
       "      <td>['sotto', 'avanti', 'fermo']</td>\n",
       "    </tr>\n",
       "    <tr>\n",
       "      <th>41144</th>\n",
       "      <td>8.937576</td>\n",
       "      <td>-0.515378</td>\n",
       "      <td>0.985285</td>\n",
       "      <td>['sotto', 'fermo', 'fermo']</td>\n",
       "    </tr>\n",
       "    <tr>\n",
       "      <th>41145</th>\n",
       "      <td>9.103576</td>\n",
       "      <td>-0.358378</td>\n",
       "      <td>0.818953</td>\n",
       "      <td>['sotto', 'fermo', 'fermo']</td>\n",
       "    </tr>\n",
       "  </tbody>\n",
       "</table>\n",
       "<p>41146 rows × 4 columns</p>\n",
       "</div>"
      ],
      "text/plain": [
       "           accX      accY      accZ                         Label\n",
       "0      2.261141  5.214785 -1.392926   ['fermo', 'fermo', 'fermo']\n",
       "1      1.937141  5.244785 -1.023467   ['fermo', 'fermo', 'fermo']\n",
       "2      1.398141  5.400785 -0.677045   ['fermo', 'fermo', 'fermo']\n",
       "3      0.800141  5.587785 -0.298913   ['fermo', 'fermo', 'fermo']\n",
       "4      0.290141  5.723785  0.281959   ['fermo', 'fermo', 'fermo']\n",
       "...         ...       ...       ...                           ...\n",
       "41141  8.508712 -1.795462  0.818229   ['sotto', 'fermo', 'fermo']\n",
       "41142  8.776462 -0.726462 -0.613555   ['sotto', 'fermo', 'fermo']\n",
       "41143  9.898576 -6.979712 -6.392718  ['sotto', 'avanti', 'fermo']\n",
       "41144  8.937576 -0.515378  0.985285   ['sotto', 'fermo', 'fermo']\n",
       "41145  9.103576 -0.358378  0.818953   ['sotto', 'fermo', 'fermo']\n",
       "\n",
       "[41146 rows x 4 columns]"
      ]
     },
     "execution_count": 6,
     "metadata": {},
     "output_type": "execute_result"
    }
   ],
   "source": [
    "df = df.drop('timestamp', axis = 1)\n",
    "df"
   ]
  },
  {
   "cell_type": "markdown",
   "metadata": {},
   "source": [
    "# aggregamento dati"
   ]
  },
  {
   "cell_type": "code",
   "execution_count": 7,
   "metadata": {},
   "outputs": [],
   "source": [
    "\n",
    "def aggrega(df, colonna, batch_size=5):\n",
    "    \"\"\"\n",
    "    Assegna la label più frequente ogni blocco di 10\n",
    "    da specificare il df e la ['']\n",
    "    \"\"\"\n",
    "    \n",
    "    lista = []  \n",
    "    \n",
    "    for i in range(0, len(df), batch_size):\n",
    "        batch = df.iloc[i:i + batch_size]  \n",
    "        \n",
    "        labels = batch[colonna]  #label del batch\n",
    "        counter = Counter(labels)     #trova la label più frequente \n",
    "        most_common_label = counter.most_common(1)[0][0]\n",
    "        \n",
    "        lista.extend([most_common_label] * len(batch))\n",
    "    \n",
    "    return pd.Series(lista, index=df.index)"
   ]
  },
  {
   "cell_type": "code",
   "execution_count": 8,
   "metadata": {},
   "outputs": [],
   "source": [
    "df['Label'] = aggrega(df, colonna='Label')"
   ]
  },
  {
   "cell_type": "code",
   "execution_count": 9,
   "metadata": {},
   "outputs": [
    {
     "data": {
      "text/html": [
       "<div>\n",
       "<style scoped>\n",
       "    .dataframe tbody tr th:only-of-type {\n",
       "        vertical-align: middle;\n",
       "    }\n",
       "\n",
       "    .dataframe tbody tr th {\n",
       "        vertical-align: top;\n",
       "    }\n",
       "\n",
       "    .dataframe thead th {\n",
       "        text-align: right;\n",
       "    }\n",
       "</style>\n",
       "<table border=\"1\" class=\"dataframe\">\n",
       "  <thead>\n",
       "    <tr style=\"text-align: right;\">\n",
       "      <th></th>\n",
       "      <th>accX</th>\n",
       "      <th>accY</th>\n",
       "      <th>accZ</th>\n",
       "      <th>Label</th>\n",
       "    </tr>\n",
       "  </thead>\n",
       "  <tbody>\n",
       "    <tr>\n",
       "      <th>0</th>\n",
       "      <td>2.261141</td>\n",
       "      <td>5.214785</td>\n",
       "      <td>-1.392926</td>\n",
       "      <td>['fermo', 'fermo', 'fermo']</td>\n",
       "    </tr>\n",
       "    <tr>\n",
       "      <th>1</th>\n",
       "      <td>1.937141</td>\n",
       "      <td>5.244785</td>\n",
       "      <td>-1.023467</td>\n",
       "      <td>['fermo', 'fermo', 'fermo']</td>\n",
       "    </tr>\n",
       "    <tr>\n",
       "      <th>2</th>\n",
       "      <td>1.398141</td>\n",
       "      <td>5.400785</td>\n",
       "      <td>-0.677045</td>\n",
       "      <td>['fermo', 'fermo', 'fermo']</td>\n",
       "    </tr>\n",
       "    <tr>\n",
       "      <th>3</th>\n",
       "      <td>0.800141</td>\n",
       "      <td>5.587785</td>\n",
       "      <td>-0.298913</td>\n",
       "      <td>['fermo', 'fermo', 'fermo']</td>\n",
       "    </tr>\n",
       "    <tr>\n",
       "      <th>4</th>\n",
       "      <td>0.290141</td>\n",
       "      <td>5.723785</td>\n",
       "      <td>0.281959</td>\n",
       "      <td>['fermo', 'fermo', 'fermo']</td>\n",
       "    </tr>\n",
       "    <tr>\n",
       "      <th>...</th>\n",
       "      <td>...</td>\n",
       "      <td>...</td>\n",
       "      <td>...</td>\n",
       "      <td>...</td>\n",
       "    </tr>\n",
       "    <tr>\n",
       "      <th>41141</th>\n",
       "      <td>8.508712</td>\n",
       "      <td>-1.795462</td>\n",
       "      <td>0.818229</td>\n",
       "      <td>['sotto', 'fermo', 'fermo']</td>\n",
       "    </tr>\n",
       "    <tr>\n",
       "      <th>41142</th>\n",
       "      <td>8.776462</td>\n",
       "      <td>-0.726462</td>\n",
       "      <td>-0.613555</td>\n",
       "      <td>['sotto', 'fermo', 'fermo']</td>\n",
       "    </tr>\n",
       "    <tr>\n",
       "      <th>41143</th>\n",
       "      <td>9.898576</td>\n",
       "      <td>-6.979712</td>\n",
       "      <td>-6.392718</td>\n",
       "      <td>['sotto', 'fermo', 'fermo']</td>\n",
       "    </tr>\n",
       "    <tr>\n",
       "      <th>41144</th>\n",
       "      <td>8.937576</td>\n",
       "      <td>-0.515378</td>\n",
       "      <td>0.985285</td>\n",
       "      <td>['sotto', 'fermo', 'fermo']</td>\n",
       "    </tr>\n",
       "    <tr>\n",
       "      <th>41145</th>\n",
       "      <td>9.103576</td>\n",
       "      <td>-0.358378</td>\n",
       "      <td>0.818953</td>\n",
       "      <td>['sotto', 'fermo', 'fermo']</td>\n",
       "    </tr>\n",
       "  </tbody>\n",
       "</table>\n",
       "<p>41146 rows × 4 columns</p>\n",
       "</div>"
      ],
      "text/plain": [
       "           accX      accY      accZ                        Label\n",
       "0      2.261141  5.214785 -1.392926  ['fermo', 'fermo', 'fermo']\n",
       "1      1.937141  5.244785 -1.023467  ['fermo', 'fermo', 'fermo']\n",
       "2      1.398141  5.400785 -0.677045  ['fermo', 'fermo', 'fermo']\n",
       "3      0.800141  5.587785 -0.298913  ['fermo', 'fermo', 'fermo']\n",
       "4      0.290141  5.723785  0.281959  ['fermo', 'fermo', 'fermo']\n",
       "...         ...       ...       ...                          ...\n",
       "41141  8.508712 -1.795462  0.818229  ['sotto', 'fermo', 'fermo']\n",
       "41142  8.776462 -0.726462 -0.613555  ['sotto', 'fermo', 'fermo']\n",
       "41143  9.898576 -6.979712 -6.392718  ['sotto', 'fermo', 'fermo']\n",
       "41144  8.937576 -0.515378  0.985285  ['sotto', 'fermo', 'fermo']\n",
       "41145  9.103576 -0.358378  0.818953  ['sotto', 'fermo', 'fermo']\n",
       "\n",
       "[41146 rows x 4 columns]"
      ]
     },
     "execution_count": 9,
     "metadata": {},
     "output_type": "execute_result"
    }
   ],
   "source": [
    "df"
   ]
  },
  {
   "cell_type": "markdown",
   "metadata": {},
   "source": [
    "# Data cleaning PT 2"
   ]
  },
  {
   "cell_type": "code",
   "execution_count": 10,
   "metadata": {},
   "outputs": [
    {
     "data": {
      "text/html": [
       "<div>\n",
       "<style scoped>\n",
       "    .dataframe tbody tr th:only-of-type {\n",
       "        vertical-align: middle;\n",
       "    }\n",
       "\n",
       "    .dataframe tbody tr th {\n",
       "        vertical-align: top;\n",
       "    }\n",
       "\n",
       "    .dataframe thead th {\n",
       "        text-align: right;\n",
       "    }\n",
       "</style>\n",
       "<table border=\"1\" class=\"dataframe\">\n",
       "  <thead>\n",
       "    <tr style=\"text-align: right;\">\n",
       "      <th></th>\n",
       "      <th>accX</th>\n",
       "      <th>accY</th>\n",
       "      <th>accZ</th>\n",
       "      <th>Label</th>\n",
       "    </tr>\n",
       "  </thead>\n",
       "  <tbody>\n",
       "    <tr>\n",
       "      <th>0</th>\n",
       "      <td>2.261141</td>\n",
       "      <td>5.214785</td>\n",
       "      <td>-1.392926</td>\n",
       "      <td>fermo, fermo, fermo</td>\n",
       "    </tr>\n",
       "    <tr>\n",
       "      <th>1</th>\n",
       "      <td>1.937141</td>\n",
       "      <td>5.244785</td>\n",
       "      <td>-1.023467</td>\n",
       "      <td>fermo, fermo, fermo</td>\n",
       "    </tr>\n",
       "    <tr>\n",
       "      <th>2</th>\n",
       "      <td>1.398141</td>\n",
       "      <td>5.400785</td>\n",
       "      <td>-0.677045</td>\n",
       "      <td>fermo, fermo, fermo</td>\n",
       "    </tr>\n",
       "    <tr>\n",
       "      <th>3</th>\n",
       "      <td>0.800141</td>\n",
       "      <td>5.587785</td>\n",
       "      <td>-0.298913</td>\n",
       "      <td>fermo, fermo, fermo</td>\n",
       "    </tr>\n",
       "    <tr>\n",
       "      <th>4</th>\n",
       "      <td>0.290141</td>\n",
       "      <td>5.723785</td>\n",
       "      <td>0.281959</td>\n",
       "      <td>fermo, fermo, fermo</td>\n",
       "    </tr>\n",
       "    <tr>\n",
       "      <th>...</th>\n",
       "      <td>...</td>\n",
       "      <td>...</td>\n",
       "      <td>...</td>\n",
       "      <td>...</td>\n",
       "    </tr>\n",
       "    <tr>\n",
       "      <th>41141</th>\n",
       "      <td>8.508712</td>\n",
       "      <td>-1.795462</td>\n",
       "      <td>0.818229</td>\n",
       "      <td>sotto, fermo, fermo</td>\n",
       "    </tr>\n",
       "    <tr>\n",
       "      <th>41142</th>\n",
       "      <td>8.776462</td>\n",
       "      <td>-0.726462</td>\n",
       "      <td>-0.613555</td>\n",
       "      <td>sotto, fermo, fermo</td>\n",
       "    </tr>\n",
       "    <tr>\n",
       "      <th>41143</th>\n",
       "      <td>9.898576</td>\n",
       "      <td>-6.979712</td>\n",
       "      <td>-6.392718</td>\n",
       "      <td>sotto, fermo, fermo</td>\n",
       "    </tr>\n",
       "    <tr>\n",
       "      <th>41144</th>\n",
       "      <td>8.937576</td>\n",
       "      <td>-0.515378</td>\n",
       "      <td>0.985285</td>\n",
       "      <td>sotto, fermo, fermo</td>\n",
       "    </tr>\n",
       "    <tr>\n",
       "      <th>41145</th>\n",
       "      <td>9.103576</td>\n",
       "      <td>-0.358378</td>\n",
       "      <td>0.818953</td>\n",
       "      <td>sotto, fermo, fermo</td>\n",
       "    </tr>\n",
       "  </tbody>\n",
       "</table>\n",
       "<p>41146 rows × 4 columns</p>\n",
       "</div>"
      ],
      "text/plain": [
       "           accX      accY      accZ                Label\n",
       "0      2.261141  5.214785 -1.392926  fermo, fermo, fermo\n",
       "1      1.937141  5.244785 -1.023467  fermo, fermo, fermo\n",
       "2      1.398141  5.400785 -0.677045  fermo, fermo, fermo\n",
       "3      0.800141  5.587785 -0.298913  fermo, fermo, fermo\n",
       "4      0.290141  5.723785  0.281959  fermo, fermo, fermo\n",
       "...         ...       ...       ...                  ...\n",
       "41141  8.508712 -1.795462  0.818229  sotto, fermo, fermo\n",
       "41142  8.776462 -0.726462 -0.613555  sotto, fermo, fermo\n",
       "41143  9.898576 -6.979712 -6.392718  sotto, fermo, fermo\n",
       "41144  8.937576 -0.515378  0.985285  sotto, fermo, fermo\n",
       "41145  9.103576 -0.358378  0.818953  sotto, fermo, fermo\n",
       "\n",
       "[41146 rows x 4 columns]"
      ]
     },
     "execution_count": 10,
     "metadata": {},
     "output_type": "execute_result"
    }
   ],
   "source": [
    "# la label è salvata come una stringa unica, quindi la puliamo e dividiamo con strip\n",
    "# che dividerà in elementi di una lista\n",
    "df['Label'] = df['Label'].apply(lambda x: x.replace('[',''))\n",
    "df['Label'] = df['Label'].apply(lambda x: x.replace(']',''))\n",
    "df['Label'] = df['Label'].apply(lambda x: x.replace('\\'',''))\n",
    "\n",
    "df"
   ]
  },
  {
   "cell_type": "code",
   "execution_count": 11,
   "metadata": {},
   "outputs": [
    {
     "data": {
      "text/plain": [
       "0        [fermo,  fermo,  fermo]\n",
       "1        [fermo,  fermo,  fermo]\n",
       "2        [fermo,  fermo,  fermo]\n",
       "3        [fermo,  fermo,  fermo]\n",
       "4        [fermo,  fermo,  fermo]\n",
       "                  ...           \n",
       "41141    [sotto,  fermo,  fermo]\n",
       "41142    [sotto,  fermo,  fermo]\n",
       "41143    [sotto,  fermo,  fermo]\n",
       "41144    [sotto,  fermo,  fermo]\n",
       "41145    [sotto,  fermo,  fermo]\n",
       "Name: Label, Length: 41146, dtype: object"
      ]
     },
     "execution_count": 11,
     "metadata": {},
     "output_type": "execute_result"
    }
   ],
   "source": [
    "df['Label'] = df['Label'].apply(lambda x: x.split(','))\n",
    "df['Label']\n",
    "#trasfroma in lista"
   ]
  },
  {
   "cell_type": "code",
   "execution_count": 12,
   "metadata": {},
   "outputs": [
    {
     "data": {
      "text/html": [
       "<div>\n",
       "<style scoped>\n",
       "    .dataframe tbody tr th:only-of-type {\n",
       "        vertical-align: middle;\n",
       "    }\n",
       "\n",
       "    .dataframe tbody tr th {\n",
       "        vertical-align: top;\n",
       "    }\n",
       "\n",
       "    .dataframe thead th {\n",
       "        text-align: right;\n",
       "    }\n",
       "</style>\n",
       "<table border=\"1\" class=\"dataframe\">\n",
       "  <thead>\n",
       "    <tr style=\"text-align: right;\">\n",
       "      <th></th>\n",
       "      <th>accX</th>\n",
       "      <th>accY</th>\n",
       "      <th>accZ</th>\n",
       "      <th>Label</th>\n",
       "    </tr>\n",
       "  </thead>\n",
       "  <tbody>\n",
       "    <tr>\n",
       "      <th>0</th>\n",
       "      <td>2.261141</td>\n",
       "      <td>5.214785</td>\n",
       "      <td>-1.392926</td>\n",
       "      <td>[fermo,  fermo,  fermo]</td>\n",
       "    </tr>\n",
       "    <tr>\n",
       "      <th>1</th>\n",
       "      <td>1.937141</td>\n",
       "      <td>5.244785</td>\n",
       "      <td>-1.023467</td>\n",
       "      <td>[fermo,  fermo,  fermo]</td>\n",
       "    </tr>\n",
       "    <tr>\n",
       "      <th>2</th>\n",
       "      <td>1.398141</td>\n",
       "      <td>5.400785</td>\n",
       "      <td>-0.677045</td>\n",
       "      <td>[fermo,  fermo,  fermo]</td>\n",
       "    </tr>\n",
       "    <tr>\n",
       "      <th>3</th>\n",
       "      <td>0.800141</td>\n",
       "      <td>5.587785</td>\n",
       "      <td>-0.298913</td>\n",
       "      <td>[fermo,  fermo,  fermo]</td>\n",
       "    </tr>\n",
       "    <tr>\n",
       "      <th>4</th>\n",
       "      <td>0.290141</td>\n",
       "      <td>5.723785</td>\n",
       "      <td>0.281959</td>\n",
       "      <td>[fermo,  fermo,  fermo]</td>\n",
       "    </tr>\n",
       "    <tr>\n",
       "      <th>...</th>\n",
       "      <td>...</td>\n",
       "      <td>...</td>\n",
       "      <td>...</td>\n",
       "      <td>...</td>\n",
       "    </tr>\n",
       "    <tr>\n",
       "      <th>41141</th>\n",
       "      <td>8.508712</td>\n",
       "      <td>-1.795462</td>\n",
       "      <td>0.818229</td>\n",
       "      <td>[sotto,  fermo,  fermo]</td>\n",
       "    </tr>\n",
       "    <tr>\n",
       "      <th>41142</th>\n",
       "      <td>8.776462</td>\n",
       "      <td>-0.726462</td>\n",
       "      <td>-0.613555</td>\n",
       "      <td>[sotto,  fermo,  fermo]</td>\n",
       "    </tr>\n",
       "    <tr>\n",
       "      <th>41143</th>\n",
       "      <td>9.898576</td>\n",
       "      <td>-6.979712</td>\n",
       "      <td>-6.392718</td>\n",
       "      <td>[sotto,  fermo,  fermo]</td>\n",
       "    </tr>\n",
       "    <tr>\n",
       "      <th>41144</th>\n",
       "      <td>8.937576</td>\n",
       "      <td>-0.515378</td>\n",
       "      <td>0.985285</td>\n",
       "      <td>[sotto,  fermo,  fermo]</td>\n",
       "    </tr>\n",
       "    <tr>\n",
       "      <th>41145</th>\n",
       "      <td>9.103576</td>\n",
       "      <td>-0.358378</td>\n",
       "      <td>0.818953</td>\n",
       "      <td>[sotto,  fermo,  fermo]</td>\n",
       "    </tr>\n",
       "  </tbody>\n",
       "</table>\n",
       "<p>41146 rows × 4 columns</p>\n",
       "</div>"
      ],
      "text/plain": [
       "           accX      accY      accZ                    Label\n",
       "0      2.261141  5.214785 -1.392926  [fermo,  fermo,  fermo]\n",
       "1      1.937141  5.244785 -1.023467  [fermo,  fermo,  fermo]\n",
       "2      1.398141  5.400785 -0.677045  [fermo,  fermo,  fermo]\n",
       "3      0.800141  5.587785 -0.298913  [fermo,  fermo,  fermo]\n",
       "4      0.290141  5.723785  0.281959  [fermo,  fermo,  fermo]\n",
       "...         ...       ...       ...                      ...\n",
       "41141  8.508712 -1.795462  0.818229  [sotto,  fermo,  fermo]\n",
       "41142  8.776462 -0.726462 -0.613555  [sotto,  fermo,  fermo]\n",
       "41143  9.898576 -6.979712 -6.392718  [sotto,  fermo,  fermo]\n",
       "41144  8.937576 -0.515378  0.985285  [sotto,  fermo,  fermo]\n",
       "41145  9.103576 -0.358378  0.818953  [sotto,  fermo,  fermo]\n",
       "\n",
       "[41146 rows x 4 columns]"
      ]
     },
     "execution_count": 12,
     "metadata": {},
     "output_type": "execute_result"
    }
   ],
   "source": [
    "df"
   ]
  },
  {
   "cell_type": "code",
   "execution_count": 13,
   "metadata": {},
   "outputs": [],
   "source": [
    "# come scelta progettuale ho eliminato le label non necessarie:\n",
    "\n",
    "def trasforma(df):\n",
    "    zero = abs(df['accX'])\n",
    "    uno = abs(df['accY'])\n",
    "    due = abs(df['accZ'])\n",
    "    \n",
    "    if zero > max(uno, due):\n",
    "        return df['Label'][0].strip()\n",
    "    elif uno > max(zero, due):\n",
    "        return df['Label'][1].strip()\n",
    "    elif due > max(zero, uno):\n",
    "        return df['Label'][2].strip()"
   ]
  },
  {
   "cell_type": "code",
   "execution_count": 14,
   "metadata": {},
   "outputs": [
    {
     "data": {
      "text/html": [
       "<div>\n",
       "<style scoped>\n",
       "    .dataframe tbody tr th:only-of-type {\n",
       "        vertical-align: middle;\n",
       "    }\n",
       "\n",
       "    .dataframe tbody tr th {\n",
       "        vertical-align: top;\n",
       "    }\n",
       "\n",
       "    .dataframe thead th {\n",
       "        text-align: right;\n",
       "    }\n",
       "</style>\n",
       "<table border=\"1\" class=\"dataframe\">\n",
       "  <thead>\n",
       "    <tr style=\"text-align: right;\">\n",
       "      <th></th>\n",
       "      <th>accX</th>\n",
       "      <th>accY</th>\n",
       "      <th>accZ</th>\n",
       "      <th>Label</th>\n",
       "    </tr>\n",
       "  </thead>\n",
       "  <tbody>\n",
       "    <tr>\n",
       "      <th>0</th>\n",
       "      <td>2.261141</td>\n",
       "      <td>5.214785</td>\n",
       "      <td>-1.392926</td>\n",
       "      <td>fermo</td>\n",
       "    </tr>\n",
       "    <tr>\n",
       "      <th>1</th>\n",
       "      <td>1.937141</td>\n",
       "      <td>5.244785</td>\n",
       "      <td>-1.023467</td>\n",
       "      <td>fermo</td>\n",
       "    </tr>\n",
       "    <tr>\n",
       "      <th>2</th>\n",
       "      <td>1.398141</td>\n",
       "      <td>5.400785</td>\n",
       "      <td>-0.677045</td>\n",
       "      <td>fermo</td>\n",
       "    </tr>\n",
       "    <tr>\n",
       "      <th>3</th>\n",
       "      <td>0.800141</td>\n",
       "      <td>5.587785</td>\n",
       "      <td>-0.298913</td>\n",
       "      <td>fermo</td>\n",
       "    </tr>\n",
       "    <tr>\n",
       "      <th>4</th>\n",
       "      <td>0.290141</td>\n",
       "      <td>5.723785</td>\n",
       "      <td>0.281959</td>\n",
       "      <td>fermo</td>\n",
       "    </tr>\n",
       "    <tr>\n",
       "      <th>...</th>\n",
       "      <td>...</td>\n",
       "      <td>...</td>\n",
       "      <td>...</td>\n",
       "      <td>...</td>\n",
       "    </tr>\n",
       "    <tr>\n",
       "      <th>41141</th>\n",
       "      <td>8.508712</td>\n",
       "      <td>-1.795462</td>\n",
       "      <td>0.818229</td>\n",
       "      <td>sotto</td>\n",
       "    </tr>\n",
       "    <tr>\n",
       "      <th>41142</th>\n",
       "      <td>8.776462</td>\n",
       "      <td>-0.726462</td>\n",
       "      <td>-0.613555</td>\n",
       "      <td>sotto</td>\n",
       "    </tr>\n",
       "    <tr>\n",
       "      <th>41143</th>\n",
       "      <td>9.898576</td>\n",
       "      <td>-6.979712</td>\n",
       "      <td>-6.392718</td>\n",
       "      <td>sotto</td>\n",
       "    </tr>\n",
       "    <tr>\n",
       "      <th>41144</th>\n",
       "      <td>8.937576</td>\n",
       "      <td>-0.515378</td>\n",
       "      <td>0.985285</td>\n",
       "      <td>sotto</td>\n",
       "    </tr>\n",
       "    <tr>\n",
       "      <th>41145</th>\n",
       "      <td>9.103576</td>\n",
       "      <td>-0.358378</td>\n",
       "      <td>0.818953</td>\n",
       "      <td>sotto</td>\n",
       "    </tr>\n",
       "  </tbody>\n",
       "</table>\n",
       "<p>41146 rows × 4 columns</p>\n",
       "</div>"
      ],
      "text/plain": [
       "           accX      accY      accZ  Label\n",
       "0      2.261141  5.214785 -1.392926  fermo\n",
       "1      1.937141  5.244785 -1.023467  fermo\n",
       "2      1.398141  5.400785 -0.677045  fermo\n",
       "3      0.800141  5.587785 -0.298913  fermo\n",
       "4      0.290141  5.723785  0.281959  fermo\n",
       "...         ...       ...       ...    ...\n",
       "41141  8.508712 -1.795462  0.818229  sotto\n",
       "41142  8.776462 -0.726462 -0.613555  sotto\n",
       "41143  9.898576 -6.979712 -6.392718  sotto\n",
       "41144  8.937576 -0.515378  0.985285  sotto\n",
       "41145  9.103576 -0.358378  0.818953  sotto\n",
       "\n",
       "[41146 rows x 4 columns]"
      ]
     },
     "execution_count": 14,
     "metadata": {},
     "output_type": "execute_result"
    }
   ],
   "source": [
    "df['Label'] = df.apply(trasforma, axis = 1)\n",
    "df"
   ]
  },
  {
   "cell_type": "code",
   "execution_count": 15,
   "metadata": {},
   "outputs": [
    {
     "data": {
      "text/plain": [
       "Label\n",
       "fermo       26367\n",
       "avanti       4122\n",
       "destra       3474\n",
       "sotto        3230\n",
       "indietro     1780\n",
       "sopra        1257\n",
       "sinistra      916\n",
       "Name: count, dtype: int64"
      ]
     },
     "execution_count": 15,
     "metadata": {},
     "output_type": "execute_result"
    }
   ],
   "source": [
    "df['Label'].value_counts()\n",
    "#controllo se ci sono label vuote (no)"
   ]
  },
  {
   "cell_type": "code",
   "execution_count": 18,
   "metadata": {},
   "outputs": [
    {
     "name": "stdout",
     "output_type": "stream",
     "text": [
      "   avanti  destra  fermo  indietro  sinistra  sopra  sotto\n",
      "0   False   False   True     False     False  False  False\n",
      "1   False   False   True     False     False  False  False\n",
      "2   False   False   True     False     False  False  False\n",
      "3   False   False   True     False     False  False  False\n",
      "4   False   False   True     False     False  False  False\n"
     ]
    }
   ],
   "source": [
    "binary_labels = pd.get_dummies(df['Label'])\n",
    "print(binary_labels.head())\n"
   ]
  },
  {
   "cell_type": "markdown",
   "metadata": {},
   "source": [
    "# train test split"
   ]
  },
  {
   "cell_type": "code",
   "execution_count": 19,
   "metadata": {},
   "outputs": [],
   "source": [
    "# Caricamento e suddivisione dei dati\n",
    "x = df.drop('Label', axis  = 1)\n",
    "y = binary_labels"
   ]
  },
  {
   "cell_type": "code",
   "execution_count": 20,
   "metadata": {},
   "outputs": [],
   "source": [
    "x_train, x_test, y_train, y_test = train_test_split(x, y, test_size=0.2, random_state=42, stratify=y)"
   ]
  },
  {
   "cell_type": "markdown",
   "metadata": {},
   "source": [
    "# normalizzazione"
   ]
  },
  {
   "cell_type": "code",
   "execution_count": 21,
   "metadata": {},
   "outputs": [],
   "source": [
    "scaler = MinMaxScaler(feature_range=(0, 1))\n",
    "x_train  = scaler.fit_transform(x_train)\n",
    "x_test  = scaler.transform(x_test)"
   ]
  },
  {
   "cell_type": "code",
   "execution_count": 22,
   "metadata": {},
   "outputs": [
    {
     "data": {
      "text/plain": [
       "['scaler.joblib']"
      ]
     },
     "execution_count": 22,
     "metadata": {},
     "output_type": "execute_result"
    }
   ],
   "source": [
    "import joblib\n",
    "\n",
    "joblib.dump(scaler, 'scaler.joblib')"
   ]
  },
  {
   "cell_type": "code",
   "execution_count": 23,
   "metadata": {},
   "outputs": [
    {
     "name": "stdout",
     "output_type": "stream",
     "text": [
      "(32916, 3)\n"
     ]
    },
    {
     "data": {
      "text/plain": [
       "(32916, 7)"
      ]
     },
     "execution_count": 23,
     "metadata": {},
     "output_type": "execute_result"
    }
   ],
   "source": [
    "print(x_train.shape)\n",
    "y_train.shape"
   ]
  },
  {
   "cell_type": "markdown",
   "metadata": {},
   "source": [
    "# convertire i dati per il modello"
   ]
  },
  {
   "cell_type": "code",
   "execution_count": 24,
   "metadata": {},
   "outputs": [
    {
     "name": "stdout",
     "output_type": "stream",
     "text": [
      "(32912, 5, 3)\n"
     ]
    },
    {
     "data": {
      "text/plain": [
       "(8226, 5, 3)"
      ]
     },
     "execution_count": 24,
     "metadata": {},
     "output_type": "execute_result"
    }
   ],
   "source": [
    "sequence_length = 5 #sequenza degli istanti temporali\n",
    "\n",
    "def create_sequences(train, sequence_length):\n",
    "    \n",
    "    seq_temp = []\n",
    "    for i in range(len(train) - sequence_length + 1):\n",
    "        seq_temp.append(train[i:i + sequence_length])\n",
    "    return np.array(seq_temp)\n",
    "\n",
    "x_train = create_sequences(x_train, sequence_length)\n",
    "x_test = create_sequences(x_test, sequence_length)\n",
    "\n",
    "print(x_train.shape)\n",
    "x_test.shape"
   ]
  },
  {
   "cell_type": "code",
   "execution_count": 25,
   "metadata": {},
   "outputs": [
    {
     "name": "stdout",
     "output_type": "stream",
     "text": [
      "4\n"
     ]
    }
   ],
   "source": [
    "#scartiamo da y_test i dati in eccesso che non riescono a creare una sequenza intera\n",
    "diff = len(y_test) - len(x_test)\n",
    "print(diff)\n",
    "\n",
    "if diff > 0:\n",
    "    y_test = y_test[:-diff]"
   ]
  },
  {
   "cell_type": "markdown",
   "metadata": {},
   "source": [
    "# addestramento"
   ]
  },
  {
   "cell_type": "code",
   "execution_count": 26,
   "metadata": {},
   "outputs": [],
   "source": [
    "from keras.callbacks import EarlyStopping"
   ]
  },
  {
   "cell_type": "code",
   "execution_count": 27,
   "metadata": {},
   "outputs": [
    {
     "name": "stderr",
     "output_type": "stream",
     "text": [
      "c:\\Users\\NicoloCalcagno\\miniconda3\\envs\\UFS12DL\\lib\\site-packages\\keras\\src\\layers\\rnn\\rnn.py:204: UserWarning: Do not pass an `input_shape`/`input_dim` argument to a layer. When using Sequential models, prefer using an `Input(shape)` object as the first layer in the model instead.\n",
      "  super().__init__(**kwargs)\n"
     ]
    },
    {
     "name": "stdout",
     "output_type": "stream",
     "text": [
      "Epoch 1/20\n",
      "\u001b[1m823/823\u001b[0m \u001b[32m━━━━━━━━━━━━━━━━━━━━\u001b[0m\u001b[37m\u001b[0m \u001b[1m15s\u001b[0m 11ms/step - accuracy: 0.5935 - loss: 0.3426 - val_accuracy: 0.6433 - val_loss: 0.2631\n",
      "Epoch 2/20\n",
      "\u001b[1m823/823\u001b[0m \u001b[32m━━━━━━━━━━━━━━━━━━━━\u001b[0m\u001b[37m\u001b[0m \u001b[1m7s\u001b[0m 8ms/step - accuracy: 0.6895 - loss: 0.2265 - val_accuracy: 0.7794 - val_loss: 0.1524\n",
      "Epoch 3/20\n",
      "\u001b[1m823/823\u001b[0m \u001b[32m━━━━━━━━━━━━━━━━━━━━\u001b[0m\u001b[37m\u001b[0m \u001b[1m7s\u001b[0m 8ms/step - accuracy: 0.8052 - loss: 0.1438 - val_accuracy: 0.8189 - val_loss: 0.1338\n",
      "Epoch 4/20\n",
      "\u001b[1m823/823\u001b[0m \u001b[32m━━━━━━━━━━━━━━━━━━━━\u001b[0m\u001b[37m\u001b[0m \u001b[1m7s\u001b[0m 8ms/step - accuracy: 0.8248 - loss: 0.1309 - val_accuracy: 0.8499 - val_loss: 0.1108\n",
      "Epoch 5/20\n",
      "\u001b[1m823/823\u001b[0m \u001b[32m━━━━━━━━━━━━━━━━━━━━\u001b[0m\u001b[37m\u001b[0m \u001b[1m7s\u001b[0m 9ms/step - accuracy: 0.8418 - loss: 0.1194 - val_accuracy: 0.8770 - val_loss: 0.0987\n",
      "Epoch 6/20\n",
      "\u001b[1m823/823\u001b[0m \u001b[32m━━━━━━━━━━━━━━━━━━━━\u001b[0m\u001b[37m\u001b[0m \u001b[1m7s\u001b[0m 9ms/step - accuracy: 0.8712 - loss: 0.1058 - val_accuracy: 0.8961 - val_loss: 0.0857\n",
      "Epoch 7/20\n",
      "\u001b[1m823/823\u001b[0m \u001b[32m━━━━━━━━━━━━━━━━━━━━\u001b[0m\u001b[37m\u001b[0m \u001b[1m7s\u001b[0m 8ms/step - accuracy: 0.8862 - loss: 0.0950 - val_accuracy: 0.9051 - val_loss: 0.0777\n",
      "Epoch 8/20\n",
      "\u001b[1m823/823\u001b[0m \u001b[32m━━━━━━━━━━━━━━━━━━━━\u001b[0m\u001b[37m\u001b[0m \u001b[1m6s\u001b[0m 7ms/step - accuracy: 0.8963 - loss: 0.0873 - val_accuracy: 0.9045 - val_loss: 0.0740\n",
      "Epoch 9/20\n",
      "\u001b[1m823/823\u001b[0m \u001b[32m━━━━━━━━━━━━━━━━━━━━\u001b[0m\u001b[37m\u001b[0m \u001b[1m6s\u001b[0m 7ms/step - accuracy: 0.9060 - loss: 0.0795 - val_accuracy: 0.9061 - val_loss: 0.0742\n",
      "Epoch 10/20\n",
      "\u001b[1m823/823\u001b[0m \u001b[32m━━━━━━━━━━━━━━━━━━━━\u001b[0m\u001b[37m\u001b[0m \u001b[1m6s\u001b[0m 7ms/step - accuracy: 0.9039 - loss: 0.0792 - val_accuracy: 0.9123 - val_loss: 0.0685\n",
      "Epoch 11/20\n",
      "\u001b[1m823/823\u001b[0m \u001b[32m━━━━━━━━━━━━━━━━━━━━\u001b[0m\u001b[37m\u001b[0m \u001b[1m6s\u001b[0m 7ms/step - accuracy: 0.9131 - loss: 0.0731 - val_accuracy: 0.9219 - val_loss: 0.0621\n",
      "Epoch 12/20\n",
      "\u001b[1m823/823\u001b[0m \u001b[32m━━━━━━━━━━━━━━━━━━━━\u001b[0m\u001b[37m\u001b[0m \u001b[1m6s\u001b[0m 7ms/step - accuracy: 0.9108 - loss: 0.0737 - val_accuracy: 0.9165 - val_loss: 0.0661\n",
      "Epoch 13/20\n",
      "\u001b[1m823/823\u001b[0m \u001b[32m━━━━━━━━━━━━━━━━━━━━\u001b[0m\u001b[37m\u001b[0m \u001b[1m6s\u001b[0m 7ms/step - accuracy: 0.9126 - loss: 0.0725 - val_accuracy: 0.9143 - val_loss: 0.0657\n"
     ]
    },
    {
     "data": {
      "text/plain": [
       "<keras.src.callbacks.history.History at 0x1c3a4c7f520>"
      ]
     },
     "execution_count": 27,
     "metadata": {},
     "output_type": "execute_result"
    }
   ],
   "source": [
    "#modello\n",
    "model = Sequential()\n",
    "model.add(LSTM(64, input_shape=(sequence_length, 3), return_sequences=True))\n",
    "model.add(Dropout(0.2))\n",
    "model.add(LSTM(32))\n",
    "model.add(Dropout(0.2))\n",
    "model.add(Dense(7, activation='softmax'))\n",
    "\n",
    "early_stopping = EarlyStopping(\n",
    "    monitor='val_loss',             \n",
    "    patience=2,                     \n",
    "    restore_best_weights=True       \n",
    ")\n",
    "\n",
    "model.compile(optimizer='adam', loss='binary_crossentropy', metrics=['accuracy'])\n",
    "\n",
    "model.fit(x_train, y_train, epochs=20, batch_size=32, validation_split=0.2, \n",
    "          callbacks= early_stopping)\n",
    "\n"
   ]
  },
  {
   "cell_type": "code",
   "execution_count": 28,
   "metadata": {},
   "outputs": [
    {
     "name": "stdout",
     "output_type": "stream",
     "text": [
      "\u001b[1m258/258\u001b[0m \u001b[32m━━━━━━━━━━━━━━━━━━━━\u001b[0m\u001b[37m\u001b[0m \u001b[1m1s\u001b[0m 4ms/step\n"
     ]
    }
   ],
   "source": [
    "from sklearn.metrics import accuracy_score\n",
    "# Valutazione\n",
    "\n",
    "predizioni = model.predict(x_test)\n",
    "soglia_corretto = 0.6\n",
    "predicted_labels = (predizioni > soglia_corretto)\n",
    "\n",
    "accuracy = accuracy_score(y_test, predicted_labels)"
   ]
  },
  {
   "cell_type": "code",
   "execution_count": 29,
   "metadata": {},
   "outputs": [
    {
     "name": "stdout",
     "output_type": "stream",
     "text": [
      "Accuracy: 0.9089472404570873\n"
     ]
    }
   ],
   "source": [
    "print(f\"Accuracy: {accuracy}\")"
   ]
  },
  {
   "cell_type": "code",
   "execution_count": 33,
   "metadata": {},
   "outputs": [
    {
     "name": "stdout",
     "output_type": "stream",
     "text": [
      "              precision    recall  f1-score   support\n",
      "\n",
      "      avanti       0.90      0.83      0.87       824\n",
      "      destra       0.91      0.82      0.86       695\n",
      "       fermo       0.95      0.94      0.95      5273\n",
      "    indietro       0.79      0.89      0.84       356\n",
      "    sinistra       0.85      0.83      0.84       183\n",
      "       sopra       0.90      0.78      0.84       250\n",
      "       sotto       0.92      0.92      0.92       645\n",
      "\n",
      "   micro avg       0.93      0.91      0.92      8226\n",
      "   macro avg       0.89      0.86      0.87      8226\n",
      "weighted avg       0.93      0.91      0.92      8226\n",
      " samples avg       0.91      0.91      0.91      8226\n",
      "\n"
     ]
    },
    {
     "name": "stderr",
     "output_type": "stream",
     "text": [
      "c:\\Users\\NicoloCalcagno\\miniconda3\\envs\\UFS12DL\\lib\\site-packages\\sklearn\\metrics\\_classification.py:1517: UndefinedMetricWarning: Precision is ill-defined and being set to 0.0 in samples with no predicted labels. Use `zero_division` parameter to control this behavior.\n",
      "  _warn_prf(average, modifier, f\"{metric.capitalize()} is\", len(result))\n"
     ]
    }
   ],
   "source": [
    "from sklearn.metrics import classification_report\n",
    "\n",
    "print(classification_report(y_test, predicted_labels, target_names=binary_labels.columns))\n"
   ]
  },
  {
   "cell_type": "code",
   "execution_count": null,
   "metadata": {},
   "outputs": [],
   "source": [
    "#model.save('model_movement.keras')"
   ]
  }
 ],
 "metadata": {
  "kernelspec": {
   "display_name": "UFS12DL",
   "language": "python",
   "name": "python3"
  },
  "language_info": {
   "codemirror_mode": {
    "name": "ipython",
    "version": 3
   },
   "file_extension": ".py",
   "mimetype": "text/x-python",
   "name": "python",
   "nbconvert_exporter": "python",
   "pygments_lexer": "ipython3",
   "version": "3.10.14"
  }
 },
 "nbformat": 4,
 "nbformat_minor": 2
}
